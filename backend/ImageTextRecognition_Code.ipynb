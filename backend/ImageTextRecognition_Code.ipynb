{
 "cells": [
  {
   "cell_type": "markdown",
   "metadata": {},
   "source": [
    "# Image Text Recognition "
   ]
  },
  {
   "cell_type": "markdown",
   "metadata": {},
   "source": [
    "## 1. Problem Statement"
   ]
  },
  {
   "cell_type": "markdown",
   "metadata": {},
   "source": [
    "<p>Reading or Recognising Text from Images is a challenging Task in the field of Computer Vision. This is Mainly because Text in Images exhibit Diversity and Variability. Backgrounds of Images are virtually unpredictable as some images may have dark background, some may have light background and there are ven cases where image fonts and background have same color with a small outline differentiating Text from the Background. There might be patterns of Text appearing in the image with different fonts, orientations, and varying lengths. The Text in Images can also be blurred or distored</p> \n",
    "<p>So is there a way we can overcome these challeges and comeup with a solution which can recognise Text in a Variety of Images with a good accuracy?</p>"
   ]
  },
  {
   "cell_type": "markdown",
   "metadata": {},
   "source": [
    "## 2. ML Problem"
   ]
  },
  {
   "cell_type": "markdown",
   "metadata": {},
   "source": [
    "Given an input Image we need to predict the Text in the Image with a reasonable accuracy >80% (Exact match with the actual Text Labels) and should have a good letter match accuracy. "
   ]
  },
  {
   "cell_type": "markdown",
   "metadata": {},
   "source": [
    "### 2.1. Constraints"
   ]
  },
  {
   "cell_type": "markdown",
   "metadata": {},
   "source": [
    "1. Low-Latency\n",
    "2. Predict Text from Images with Variable length Labels/Words"
   ]
  },
  {
   "cell_type": "markdown",
   "metadata": {},
   "source": [
    "### 2.2. Performance Metrics"
   ]
  },
  {
   "cell_type": "markdown",
   "metadata": {},
   "source": [
    "1. CTC_loss during Training\n",
    "2. Accuracy\n",
    "3. Letter Accuracy"
   ]
  },
  {
   "cell_type": "markdown",
   "metadata": {},
   "source": [
    "## 3. Dataset Overview"
   ]
  },
  {
   "cell_type": "markdown",
   "metadata": {},
   "source": [
    "The Dataset used for this Case Study is **MJ Synth Dataset**"
   ]
  },
  {
   "cell_type": "markdown",
   "metadata": {},
   "source": [
    "**Source:** https://www.robots.ox.ac.uk/~vgg/data/text/#sec-synth"
   ]
  },
  {
   "cell_type": "markdown",
   "metadata": {},
   "source": [
    "1. **Train Data:** 200000 images from MJ Syth Dataset\n",
    "2. **Validation Data:** 12000 images from MJ Syth Dataset\n",
    "3. **Test Data:** 15000 images from MJ Syth Dataset "
   ]
  },
  {
   "cell_type": "markdown",
   "metadata": {},
   "source": [
    "### About Dataset"
   ]
  },
  {
   "cell_type": "markdown",
   "metadata": {},
   "source": [
    "**MJ Synth Dataset**"
   ]
  },
  {
   "cell_type": "markdown",
   "metadata": {},
   "source": [
    "The dataset consists of 9 million images in Grayscale covering 90k English words"
   ]
  },
  {
   "cell_type": "code",
   "execution_count": 1,
   "metadata": {},
   "outputs": [],
   "source": [
    "from IPython.display import Image"
   ]
  },
  {
   "cell_type": "markdown",
   "metadata": {},
   "source": [
    "## 4. Dataset Citation"
   ]
  },
  {
   "cell_type": "markdown",
   "metadata": {},
   "source": [
    "@InProceedings{Jaderberg14c,\n",
    "  author       = \"Max Jaderberg and Karen Simonyan and Andrea Vedaldi and Andrew Zisserman\",\n",
    "  title        = \"Synthetic Data and Artificial Neural Networks for Natural Scene Text Recognition\",\n",
    "  booktitle    = \"Workshop on Deep Learning, NIPS\",\n",
    "  year         = \"2014\",\n",
    "}"
   ]
  },
  {
   "cell_type": "markdown",
   "metadata": {},
   "source": [
    "## 5. Data Preparation"
   ]
  },
  {
   "cell_type": "code",
   "execution_count": 2,
   "metadata": {},
   "outputs": [],
   "source": [
    "import numpy as np\n",
    "import pandas as pd\n",
    "from PIL import Image as pilImg\n",
    "import os \n",
    "import cv2\n",
    "from datetime import datetime\n",
    "import matplotlib.pyplot as plt\n",
    "import itertools"
   ]
  },
  {
   "cell_type": "markdown",
   "metadata": {},
   "source": [
    "Considering images with labels of length>=4 and length <=12 for this Case Study"
   ]
  },
  {
   "cell_type": "markdown",
   "metadata": {},
   "source": [
    "**Preparing Train Data**"
   ]
  },
  {
   "cell_type": "code",
   "execution_count": 3,
   "metadata": {},
   "outputs": [],
   "source": [
    "def Extract_image_path_and_label(file_path,number):\n",
    "    \"\"\"\n",
    "    Takes the file path of images annotation txt file with the number of images names to be extracted\n",
    "    and returns the list of file names having label length <=12\n",
    "    \"\"\"\n",
    "    with open(file_path,encoding='UTF-8') as f:\n",
    "        file_names=f.readlines()\n",
    "        f.close()\n",
    "        img_names=[]\n",
    "        txt_labels=[]\n",
    "        for file in file_names:\n",
    "            try:\n",
    "                _,image,label=file.split(',')\n",
    "                img_names.append(image.strip())\n",
    "                txt_labels.append(label.strip())\n",
    "            except:\n",
    "                print(file)\n",
    "        return img_names,txt_labels"
   ]
  },
  {
   "cell_type": "code",
   "execution_count": 4,
   "metadata": {},
   "outputs": [
    {
     "ename": "FileNotFoundError",
     "evalue": "[Errno 2] No such file or directory: 'data.csv'",
     "output_type": "error",
     "traceback": [
      "\u001b[0;31m---------------------------------------------------------------------------\u001b[0m",
      "\u001b[0;31mFileNotFoundError\u001b[0m                         Traceback (most recent call last)",
      "\u001b[1;32m/home/nafiul/thesis4_2/labeling/backend/ImageTextRecognition_Code.ipynb Cell 25\u001b[0m in \u001b[0;36m<cell line: 1>\u001b[0;34m()\u001b[0m\n\u001b[0;32m----> <a href='vscode-notebook-cell:/home/nafiul/thesis4_2/labeling/backend/ImageTextRecognition_Code.ipynb#Y454sZmlsZQ%3D%3D?line=0'>1</a>\u001b[0m train_images, train_labels\u001b[39m=\u001b[39m Extract_image_path_and_label(\u001b[39m'\u001b[39;49m\u001b[39mdata.csv\u001b[39;49m\u001b[39m'\u001b[39;49m,\u001b[39m200000\u001b[39;49m)\n",
      "\u001b[1;32m/home/nafiul/thesis4_2/labeling/backend/ImageTextRecognition_Code.ipynb Cell 25\u001b[0m in \u001b[0;36mExtract_image_path_and_label\u001b[0;34m(file_path, number)\u001b[0m\n\u001b[1;32m      <a href='vscode-notebook-cell:/home/nafiul/thesis4_2/labeling/backend/ImageTextRecognition_Code.ipynb#Y454sZmlsZQ%3D%3D?line=0'>1</a>\u001b[0m \u001b[39mdef\u001b[39;00m \u001b[39mExtract_image_path_and_label\u001b[39m(file_path,number):\n\u001b[1;32m      <a href='vscode-notebook-cell:/home/nafiul/thesis4_2/labeling/backend/ImageTextRecognition_Code.ipynb#Y454sZmlsZQ%3D%3D?line=1'>2</a>\u001b[0m     \u001b[39m\"\"\"\u001b[39;00m\n\u001b[1;32m      <a href='vscode-notebook-cell:/home/nafiul/thesis4_2/labeling/backend/ImageTextRecognition_Code.ipynb#Y454sZmlsZQ%3D%3D?line=2'>3</a>\u001b[0m \u001b[39m    Takes the file path of images annotation txt file with the number of images names to be extracted\u001b[39;00m\n\u001b[1;32m      <a href='vscode-notebook-cell:/home/nafiul/thesis4_2/labeling/backend/ImageTextRecognition_Code.ipynb#Y454sZmlsZQ%3D%3D?line=3'>4</a>\u001b[0m \u001b[39m    and returns the list of file names having label length <=12\u001b[39;00m\n\u001b[1;32m      <a href='vscode-notebook-cell:/home/nafiul/thesis4_2/labeling/backend/ImageTextRecognition_Code.ipynb#Y454sZmlsZQ%3D%3D?line=4'>5</a>\u001b[0m \u001b[39m    \"\"\"\u001b[39;00m\n\u001b[0;32m----> <a href='vscode-notebook-cell:/home/nafiul/thesis4_2/labeling/backend/ImageTextRecognition_Code.ipynb#Y454sZmlsZQ%3D%3D?line=5'>6</a>\u001b[0m     \u001b[39mwith\u001b[39;00m \u001b[39mopen\u001b[39;49m(file_path,encoding\u001b[39m=\u001b[39;49m\u001b[39m'\u001b[39;49m\u001b[39mUTF-8\u001b[39;49m\u001b[39m'\u001b[39;49m) \u001b[39mas\u001b[39;00m f:\n\u001b[1;32m      <a href='vscode-notebook-cell:/home/nafiul/thesis4_2/labeling/backend/ImageTextRecognition_Code.ipynb#Y454sZmlsZQ%3D%3D?line=6'>7</a>\u001b[0m         file_names\u001b[39m=\u001b[39mf\u001b[39m.\u001b[39mreadlines()\n\u001b[1;32m      <a href='vscode-notebook-cell:/home/nafiul/thesis4_2/labeling/backend/ImageTextRecognition_Code.ipynb#Y454sZmlsZQ%3D%3D?line=7'>8</a>\u001b[0m         f\u001b[39m.\u001b[39mclose()\n",
      "\u001b[0;31mFileNotFoundError\u001b[0m: [Errno 2] No such file or directory: 'data.csv'"
     ]
    }
   ],
   "source": [
    "train_images, train_labels= Extract_image_path_and_label('data.csv',200000)"
   ]
  },
  {
   "cell_type": "code",
   "execution_count": null,
   "metadata": {},
   "outputs": [
    {
     "data": {
      "text/plain": [
       "['C:\\\\Users\\\\xenon\\\\HAWAN\\\\backend\\\\words\\\\0\\\\AbdullahAlMuid170617_10.png',\n",
       " 'C:\\\\Users\\\\xenon\\\\HAWAN\\\\backend\\\\words\\\\0\\\\AnwarHossain170620_10.png',\n",
       " 'C:\\\\Users\\\\xenon\\\\HAWAN\\\\backend\\\\words\\\\0\\\\ArifulIslam170632_10.png',\n",
       " 'C:\\\\Users\\\\xenon\\\\HAWAN\\\\backend\\\\words\\\\0\\\\ArifulIslam210637_10.png',\n",
       " 'C:\\\\Users\\\\xenon\\\\HAWAN\\\\backend\\\\words\\\\0\\\\AsifKarim210602_10.png']"
      ]
     },
     "execution_count": 5,
     "metadata": {},
     "output_type": "execute_result"
    }
   ],
   "source": [
    "train_images[:5]"
   ]
  },
  {
   "cell_type": "markdown",
   "metadata": {},
   "source": [
    "The images names contains '.' after SynthImageDataset name which is an invalid file name so we need to remove '.' in begining without removing '.' which represents extention of images and we need to remove the number at the end as it is just the image serial number"
   ]
  },
  {
   "cell_type": "code",
   "execution_count": null,
   "metadata": {},
   "outputs": [],
   "source": [
    "train_data=pd.DataFrame({'ImageName':train_images,'Labels': train_labels})"
   ]
  },
  {
   "cell_type": "code",
   "execution_count": null,
   "metadata": {},
   "outputs": [
    {
     "data": {
      "text/html": [
       "<div>\n",
       "<style scoped>\n",
       "    .dataframe tbody tr th:only-of-type {\n",
       "        vertical-align: middle;\n",
       "    }\n",
       "\n",
       "    .dataframe tbody tr th {\n",
       "        vertical-align: top;\n",
       "    }\n",
       "\n",
       "    .dataframe thead th {\n",
       "        text-align: right;\n",
       "    }\n",
       "</style>\n",
       "<table border=\"1\" class=\"dataframe\">\n",
       "  <thead>\n",
       "    <tr style=\"text-align: right;\">\n",
       "      <th></th>\n",
       "      <th>ImageName</th>\n",
       "      <th>Labels</th>\n",
       "    </tr>\n",
       "  </thead>\n",
       "  <tbody>\n",
       "    <tr>\n",
       "      <th>0</th>\n",
       "      <td>C:\\Users\\xenon\\HAWAN\\backend\\words\\0\\AbdullahA...</td>\n",
       "      <td>বর্ষামুখর</td>\n",
       "    </tr>\n",
       "    <tr>\n",
       "      <th>1</th>\n",
       "      <td>C:\\Users\\xenon\\HAWAN\\backend\\words\\0\\AnwarHoss...</td>\n",
       "      <td>বর্ষামুখর</td>\n",
       "    </tr>\n",
       "    <tr>\n",
       "      <th>2</th>\n",
       "      <td>C:\\Users\\xenon\\HAWAN\\backend\\words\\0\\ArifulIsl...</td>\n",
       "      <td>বর্ষামুখর</td>\n",
       "    </tr>\n",
       "    <tr>\n",
       "      <th>3</th>\n",
       "      <td>C:\\Users\\xenon\\HAWAN\\backend\\words\\0\\ArifulIsl...</td>\n",
       "      <td>বর্ষামুখর</td>\n",
       "    </tr>\n",
       "    <tr>\n",
       "      <th>4</th>\n",
       "      <td>C:\\Users\\xenon\\HAWAN\\backend\\words\\0\\AsifKarim...</td>\n",
       "      <td>বর্ষামুখর</td>\n",
       "    </tr>\n",
       "  </tbody>\n",
       "</table>\n",
       "</div>"
      ],
      "text/plain": [
       "                                           ImageName     Labels\n",
       "0  C:\\Users\\xenon\\HAWAN\\backend\\words\\0\\AbdullahA...  বর্ষামুখর\n",
       "1  C:\\Users\\xenon\\HAWAN\\backend\\words\\0\\AnwarHoss...  বর্ষামুখর\n",
       "2  C:\\Users\\xenon\\HAWAN\\backend\\words\\0\\ArifulIsl...  বর্ষামুখর\n",
       "3  C:\\Users\\xenon\\HAWAN\\backend\\words\\0\\ArifulIsl...  বর্ষামুখর\n",
       "4  C:\\Users\\xenon\\HAWAN\\backend\\words\\0\\AsifKarim...  বর্ষামুখর"
      ]
     },
     "execution_count": 7,
     "metadata": {},
     "output_type": "execute_result"
    }
   ],
   "source": [
    "train_data.head()"
   ]
  },
  {
   "cell_type": "markdown",
   "metadata": {},
   "source": [
    "**The Ground Truth Values are present in the image file names, so we need to extract it and Store it in Ground Truth Column**"
   ]
  },
  {
   "cell_type": "code",
   "execution_count": null,
   "metadata": {},
   "outputs": [],
   "source": [
    "# Train_ground_truths=extract_ground_truth(train_cleaned)"
   ]
  },
  {
   "cell_type": "code",
   "execution_count": null,
   "metadata": {},
   "outputs": [
    {
     "data": {
      "text/html": [
       "<div>\n",
       "<style scoped>\n",
       "    .dataframe tbody tr th:only-of-type {\n",
       "        vertical-align: middle;\n",
       "    }\n",
       "\n",
       "    .dataframe tbody tr th {\n",
       "        vertical-align: top;\n",
       "    }\n",
       "\n",
       "    .dataframe thead th {\n",
       "        text-align: right;\n",
       "    }\n",
       "</style>\n",
       "<table border=\"1\" class=\"dataframe\">\n",
       "  <thead>\n",
       "    <tr style=\"text-align: right;\">\n",
       "      <th></th>\n",
       "      <th>ImageName</th>\n",
       "      <th>Labels</th>\n",
       "    </tr>\n",
       "  </thead>\n",
       "  <tbody>\n",
       "    <tr>\n",
       "      <th>0</th>\n",
       "      <td>C:\\Users\\xenon\\HAWAN\\backend\\words\\0\\AbdullahA...</td>\n",
       "      <td>বর্ষামুখর</td>\n",
       "    </tr>\n",
       "    <tr>\n",
       "      <th>1</th>\n",
       "      <td>C:\\Users\\xenon\\HAWAN\\backend\\words\\0\\AnwarHoss...</td>\n",
       "      <td>বর্ষামুখর</td>\n",
       "    </tr>\n",
       "    <tr>\n",
       "      <th>2</th>\n",
       "      <td>C:\\Users\\xenon\\HAWAN\\backend\\words\\0\\ArifulIsl...</td>\n",
       "      <td>বর্ষামুখর</td>\n",
       "    </tr>\n",
       "    <tr>\n",
       "      <th>3</th>\n",
       "      <td>C:\\Users\\xenon\\HAWAN\\backend\\words\\0\\ArifulIsl...</td>\n",
       "      <td>বর্ষামুখর</td>\n",
       "    </tr>\n",
       "    <tr>\n",
       "      <th>4</th>\n",
       "      <td>C:\\Users\\xenon\\HAWAN\\backend\\words\\0\\AsifKarim...</td>\n",
       "      <td>বর্ষামুখর</td>\n",
       "    </tr>\n",
       "  </tbody>\n",
       "</table>\n",
       "</div>"
      ],
      "text/plain": [
       "                                           ImageName     Labels\n",
       "0  C:\\Users\\xenon\\HAWAN\\backend\\words\\0\\AbdullahA...  বর্ষামুখর\n",
       "1  C:\\Users\\xenon\\HAWAN\\backend\\words\\0\\AnwarHoss...  বর্ষামুখর\n",
       "2  C:\\Users\\xenon\\HAWAN\\backend\\words\\0\\ArifulIsl...  বর্ষামুখর\n",
       "3  C:\\Users\\xenon\\HAWAN\\backend\\words\\0\\ArifulIsl...  বর্ষামুখর\n",
       "4  C:\\Users\\xenon\\HAWAN\\backend\\words\\0\\AsifKarim...  বর্ষামুখর"
      ]
     },
     "execution_count": 9,
     "metadata": {},
     "output_type": "execute_result"
    }
   ],
   "source": [
    "train_data.head()"
   ]
  },
  {
   "cell_type": "code",
   "execution_count": null,
   "metadata": {},
   "outputs": [],
   "source": [
    "train_data.to_csv('Train_data.csv')"
   ]
  },
  {
   "cell_type": "markdown",
   "metadata": {},
   "source": [
    "## 6. Image Processing -Converting to Single Channel"
   ]
  },
  {
   "cell_type": "markdown",
   "metadata": {},
   "source": [
    "We need to Extract The images present in multiple folder paths in the original Big Data set and store them in a specified Train and Validation Data folder by taking the single channel gray scale images"
   ]
  },
  {
   "cell_type": "code",
   "execution_count": null,
   "metadata": {},
   "outputs": [],
   "source": [
    "def img_store_single_channel(destination_folder,files):\n",
    "    \"\"\"\n",
    "    Takes the images in a folder, distination folder path and \n",
    "    converts the image to single channel gray scale,\n",
    "    stores the image in the destination folder and returns image destination list\n",
    "    \"\"\"\n",
    "    start=datetime.now()\n",
    "    destination_list=[]\n",
    "    count=1\n",
    "    for file in files:\n",
    "        #Removing the extra folder structures\n",
    "        head ,tail = os.path.split(file)\n",
    "        destination=destination_folder+str(count)+'_'+tail\n",
    "        \n",
    "        cv_img=cv2.imread(file)\n",
    "        \n",
    "        #So extracting image from any 1 channel gives a single channel Grayscale image\n",
    "        \n",
    "        cv_img_sc = cv2.cvtColor(cv_img, cv2.COLOR_BGR2GRAY)\n",
    "        cv2.imwrite(destination,cv_img_sc)\n",
    "        destination_list.append(destination)\n",
    "        count+=1\n",
    "#         if count%10000==0:\n",
    "#             print(\"Processed Images: \",count)\n",
    "    print('Time Taken for Processing: ',datetime.now() - start)\n",
    "    return destination_list"
   ]
  },
  {
   "cell_type": "markdown",
   "metadata": {},
   "source": [
    "**Processing Train Data**"
   ]
  },
  {
   "cell_type": "code",
   "execution_count": null,
   "metadata": {},
   "outputs": [],
   "source": [
    "train_data=pd.read_csv('Train_data.csv')"
   ]
  },
  {
   "cell_type": "code",
   "execution_count": null,
   "metadata": {},
   "outputs": [],
   "source": [
    "train_data.drop(['Unnamed: 0'],axis=1,inplace=True)"
   ]
  },
  {
   "cell_type": "code",
   "execution_count": null,
   "metadata": {},
   "outputs": [],
   "source": [
    "train_files=train_data['ImageName'].values"
   ]
  },
  {
   "cell_type": "code",
   "execution_count": null,
   "metadata": {},
   "outputs": [
    {
     "name": "stdout",
     "output_type": "stream",
     "text": [
      "Time Taken for Processing:  0:00:10.091560\n"
     ]
    }
   ],
   "source": [
    "train_dest=img_store_single_channel('train_data/',train_files)"
   ]
  },
  {
   "cell_type": "code",
   "execution_count": null,
   "metadata": {},
   "outputs": [],
   "source": [
    "#Updating Train Dataframe with new destination file paths\n",
    "train_data['ImageName']=train_dest"
   ]
  },
  {
   "cell_type": "code",
   "execution_count": null,
   "metadata": {},
   "outputs": [
    {
     "data": {
      "text/html": [
       "<div>\n",
       "<style scoped>\n",
       "    .dataframe tbody tr th:only-of-type {\n",
       "        vertical-align: middle;\n",
       "    }\n",
       "\n",
       "    .dataframe tbody tr th {\n",
       "        vertical-align: top;\n",
       "    }\n",
       "\n",
       "    .dataframe thead th {\n",
       "        text-align: right;\n",
       "    }\n",
       "</style>\n",
       "<table border=\"1\" class=\"dataframe\">\n",
       "  <thead>\n",
       "    <tr style=\"text-align: right;\">\n",
       "      <th></th>\n",
       "      <th>ImageName</th>\n",
       "      <th>Labels</th>\n",
       "    </tr>\n",
       "  </thead>\n",
       "  <tbody>\n",
       "    <tr>\n",
       "      <th>0</th>\n",
       "      <td>train_data/1_AbdullahAlMuid170617_10.png</td>\n",
       "      <td>বর্ষামুখর</td>\n",
       "    </tr>\n",
       "    <tr>\n",
       "      <th>1</th>\n",
       "      <td>train_data/2_AnwarHossain170620_10.png</td>\n",
       "      <td>বর্ষামুখর</td>\n",
       "    </tr>\n",
       "    <tr>\n",
       "      <th>2</th>\n",
       "      <td>train_data/3_ArifulIslam170632_10.png</td>\n",
       "      <td>বর্ষামুখর</td>\n",
       "    </tr>\n",
       "    <tr>\n",
       "      <th>3</th>\n",
       "      <td>train_data/4_ArifulIslam210637_10.png</td>\n",
       "      <td>বর্ষামুখর</td>\n",
       "    </tr>\n",
       "    <tr>\n",
       "      <th>4</th>\n",
       "      <td>train_data/5_AsifKarim210602_10.png</td>\n",
       "      <td>বর্ষামুখর</td>\n",
       "    </tr>\n",
       "  </tbody>\n",
       "</table>\n",
       "</div>"
      ],
      "text/plain": [
       "                                  ImageName     Labels\n",
       "0  train_data/1_AbdullahAlMuid170617_10.png  বর্ষামুখর\n",
       "1    train_data/2_AnwarHossain170620_10.png  বর্ষামুখর\n",
       "2     train_data/3_ArifulIslam170632_10.png  বর্ষামুখর\n",
       "3     train_data/4_ArifulIslam210637_10.png  বর্ষামুখর\n",
       "4       train_data/5_AsifKarim210602_10.png  বর্ষামুখর"
      ]
     },
     "execution_count": 17,
     "metadata": {},
     "output_type": "execute_result"
    }
   ],
   "source": [
    "train_data.head()"
   ]
  },
  {
   "cell_type": "code",
   "execution_count": null,
   "metadata": {},
   "outputs": [],
   "source": [
    "train_data.to_csv('Train_Final.csv')"
   ]
  },
  {
   "cell_type": "markdown",
   "metadata": {},
   "source": [
    "**Processing Validation Data**"
   ]
  },
  {
   "cell_type": "markdown",
   "metadata": {},
   "source": [
    "**Processing Test Data**"
   ]
  },
  {
   "cell_type": "markdown",
   "metadata": {},
   "source": [
    "## 7. Exploratory Data Analysis"
   ]
  },
  {
   "cell_type": "markdown",
   "metadata": {},
   "source": [
    "## 7.1. Image Size Analysis"
   ]
  },
  {
   "cell_type": "code",
   "execution_count": null,
   "metadata": {},
   "outputs": [],
   "source": [
    "train_data=pd.read_csv('Train_data.csv')"
   ]
  },
  {
   "cell_type": "code",
   "execution_count": null,
   "metadata": {},
   "outputs": [],
   "source": [
    "def Write_Image_Sizes(filenames,storage_file):\n",
    "    \"\"\"\n",
    "    Takes the File names, writes the width and height of images in csv along with file names\n",
    "    \"\"\"\n",
    "    store_file=open(storage_file,'w+')\n",
    "    store_file.write(\"ImageName,Height,Width\")\n",
    "    store_file.write(\"\\n\")\n",
    "    cnt=0\n",
    "    for file in filenames:\n",
    "        cv_img=cv2.imread(file)\n",
    "        #img.shape gives (img_height,img_width,img_channel)\n",
    "        store_file.write(str(file)+\",\"+str(cv_img.shape[0])+\",\"+str(cv_img.shape[1]))\n",
    "        store_file.write(\"\\n\")\n",
    "        cnt+=1\n",
    "        if cnt%10000==0:\n",
    "            print(\"Processed Images: \",cnt)\n",
    "    store_file.close()       "
   ]
  },
  {
   "cell_type": "code",
   "execution_count": null,
   "metadata": {},
   "outputs": [],
   "source": [
    "train_image_names=list(train_data['ImageName'].values)"
   ]
  },
  {
   "cell_type": "code",
   "execution_count": null,
   "metadata": {},
   "outputs": [],
   "source": [
    "Write_Image_Sizes(train_image_names,'Train_image_sizes.csv')"
   ]
  },
  {
   "cell_type": "code",
   "execution_count": null,
   "metadata": {},
   "outputs": [],
   "source": [
    "train_img_size=pd.read_csv('Train_image_sizes.csv')"
   ]
  },
  {
   "cell_type": "code",
   "execution_count": null,
   "metadata": {},
   "outputs": [
    {
     "data": {
      "text/html": [
       "<div>\n",
       "<style scoped>\n",
       "    .dataframe tbody tr th:only-of-type {\n",
       "        vertical-align: middle;\n",
       "    }\n",
       "\n",
       "    .dataframe tbody tr th {\n",
       "        vertical-align: top;\n",
       "    }\n",
       "\n",
       "    .dataframe thead th {\n",
       "        text-align: right;\n",
       "    }\n",
       "</style>\n",
       "<table border=\"1\" class=\"dataframe\">\n",
       "  <thead>\n",
       "    <tr style=\"text-align: right;\">\n",
       "      <th></th>\n",
       "      <th>Height</th>\n",
       "      <th>Width</th>\n",
       "    </tr>\n",
       "  </thead>\n",
       "  <tbody>\n",
       "    <tr>\n",
       "      <th>count</th>\n",
       "      <td>7349.000000</td>\n",
       "      <td>7349.000000</td>\n",
       "    </tr>\n",
       "    <tr>\n",
       "      <th>mean</th>\n",
       "      <td>84.729215</td>\n",
       "      <td>184.059328</td>\n",
       "    </tr>\n",
       "    <tr>\n",
       "      <th>std</th>\n",
       "      <td>27.270453</td>\n",
       "      <td>58.562008</td>\n",
       "    </tr>\n",
       "    <tr>\n",
       "      <th>min</th>\n",
       "      <td>32.000000</td>\n",
       "      <td>46.000000</td>\n",
       "    </tr>\n",
       "    <tr>\n",
       "      <th>25%</th>\n",
       "      <td>63.000000</td>\n",
       "      <td>143.000000</td>\n",
       "    </tr>\n",
       "    <tr>\n",
       "      <th>50%</th>\n",
       "      <td>80.000000</td>\n",
       "      <td>173.000000</td>\n",
       "    </tr>\n",
       "    <tr>\n",
       "      <th>75%</th>\n",
       "      <td>102.000000</td>\n",
       "      <td>217.000000</td>\n",
       "    </tr>\n",
       "    <tr>\n",
       "      <th>max</th>\n",
       "      <td>198.000000</td>\n",
       "      <td>477.000000</td>\n",
       "    </tr>\n",
       "  </tbody>\n",
       "</table>\n",
       "</div>"
      ],
      "text/plain": [
       "            Height        Width\n",
       "count  7349.000000  7349.000000\n",
       "mean     84.729215   184.059328\n",
       "std      27.270453    58.562008\n",
       "min      32.000000    46.000000\n",
       "25%      63.000000   143.000000\n",
       "50%      80.000000   173.000000\n",
       "75%     102.000000   217.000000\n",
       "max     198.000000   477.000000"
      ]
     },
     "execution_count": 24,
     "metadata": {},
     "output_type": "execute_result"
    }
   ],
   "source": [
    "train_img_size.describe()"
   ]
  },
  {
   "cell_type": "markdown",
   "metadata": {},
   "source": [
    "**Observations**"
   ]
  },
  {
   "cell_type": "markdown",
   "metadata": {},
   "source": [
    "1. Images in Train Data have a mean height of 31 and mean width of ~116\n",
    "2. Almost 75% of Images have width 136 and height 31"
   ]
  },
  {
   "cell_type": "code",
   "execution_count": null,
   "metadata": {},
   "outputs": [
    {
     "name": "stdout",
     "output_type": "stream",
     "text": [
      "Train Images Height 90 percentile : 123.0\n",
      "Train Images Height 99 percentile : 160.0\n",
      "Train Images Width 90 percentile : 267.0\n",
      "Train Images Width 99 percentile : 349.5199999999995\n",
      "============================================================\n"
     ]
    }
   ],
   "source": [
    "print(\"Train Images Height 90 percentile :\",np.percentile(train_img_size['Height'].values,90))\n",
    "print(\"Train Images Height 99 percentile :\",np.percentile(train_img_size['Height'].values,99))\n",
    "print(\"Train Images Width 90 percentile :\",np.percentile(train_img_size['Width'].values,90))\n",
    "print(\"Train Images Width 99 percentile :\",np.percentile(train_img_size['Width'].values,99))\n",
    "print(\"=\"*60)"
   ]
  },
  {
   "cell_type": "markdown",
   "metadata": {},
   "source": [
    "**Observation**\n",
    "1. There is no much difference in 90 and 99 percentile Values of Image Height\n",
    "2. We need to Further check on Image Width"
   ]
  },
  {
   "cell_type": "code",
   "execution_count": null,
   "metadata": {},
   "outputs": [
    {
     "name": "stdout",
     "output_type": "stream",
     "text": [
      "Train Images Width 90 percentile : 267.0\n",
      "Train Images Width 91 percentile : 271.0\n",
      "Train Images Width 92 percentile : 276.0\n",
      "Train Images Width 93 percentile : 282.6400000000003\n",
      "Train Images Width 94 percentile : 288.0\n",
      "Train Images Width 95 percentile : 295.0\n",
      "Train Images Width 96 percentile : 303.0\n",
      "Train Images Width 97 percentile : 315.0\n",
      "Train Images Width 98 percentile : 330.0\n",
      "Train Images Width 99 percentile : 349.5199999999995\n",
      "============================================================\n"
     ]
    }
   ],
   "source": [
    "for i in range(10):\n",
    "    print(\"Train Images Width \"+str(90+i)+ \" percentile :\",np.percentile(train_img_size['Width'].values,90+i))\n",
    "print(\"=\"*60)"
   ]
  },
  {
   "cell_type": "markdown",
   "metadata": {},
   "source": [
    "**Observation**\n",
    "1. There much Variation in Widths in the 90-99 percentile range\n",
    "2. Almost 95 Percentile of the Images have with of 190\n",
    "3. Compartively fewer number of Images have width > 200"
   ]
  },
  {
   "cell_type": "code",
   "execution_count": null,
   "metadata": {},
   "outputs": [],
   "source": [
    "def cdf_image_heights(label_len):\n",
    "    \"\"\"\n",
    "    Takes a list of image heights as input and Plots CDF of image heights\n",
    "    \"\"\"\n",
    "    plt.figure(figsize=(10,6))\n",
    "    count_labels=np.array(label_len)\n",
    "    counts, bin_edges = np.histogram(count_labels, bins=8, \n",
    "                                 density = True)\n",
    "    pdf = counts/(sum(counts))\n",
    "    cdf=np.cumsum(pdf)\n",
    "    plt.plot(bin_edges[1:],cdf)\n",
    "    plt.xlabel('Height of Images',fontsize=10)\n",
    "    plt.ylabel('CDF',fontsize=10)\n",
    "    plt.title('CDF Plot of Image Height',fontsize=12)\n",
    "    plt.show()"
   ]
  },
  {
   "cell_type": "code",
   "execution_count": null,
   "metadata": {},
   "outputs": [],
   "source": [
    "def cdf_image_widths(label_len):\n",
    "    \"\"\"\n",
    "    Takes a list of image widths as input and Plots CDF of image widths\n",
    "    \"\"\"\n",
    "    plt.figure(figsize=(10,6))\n",
    "    count_labels=np.array(label_len)\n",
    "    counts, bin_edges = np.histogram(count_labels, bins=8, \n",
    "                                 density = True)\n",
    "    pdf = counts/(sum(counts))\n",
    "    cdf=np.cumsum(pdf)\n",
    "    plt.plot(bin_edges[1:],cdf)\n",
    "    plt.xlabel('Width of Images',fontsize=10)\n",
    "    plt.ylabel('CDF',fontsize=10)\n",
    "    plt.title('CDF Plot of Image Width',fontsize=12)\n",
    "    plt.show()"
   ]
  },
  {
   "cell_type": "markdown",
   "metadata": {},
   "source": [
    "**Train Data Height and Width CDF Plots**"
   ]
  },
  {
   "cell_type": "code",
   "execution_count": null,
   "metadata": {},
   "outputs": [
    {
     "data": {
      "image/png": "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",
      "text/plain": [
       "<Figure size 1000x600 with 1 Axes>"
      ]
     },
     "metadata": {},
     "output_type": "display_data"
    }
   ],
   "source": [
    "cdf_image_heights(train_img_size['Height'].values)"
   ]
  },
  {
   "cell_type": "code",
   "execution_count": null,
   "metadata": {},
   "outputs": [
    {
     "data": {
      "image/png": "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",
      "text/plain": [
       "<Figure size 1000x600 with 1 Axes>"
      ]
     },
     "metadata": {},
     "output_type": "display_data"
    }
   ],
   "source": [
    "cdf_image_widths(train_img_size['Width'].values)"
   ]
  },
  {
   "cell_type": "markdown",
   "metadata": {},
   "source": [
    "**Observation**\n",
    "1. Most of the Images have a height of 31\n",
    "2. Almost 95% of the Images have a height of 200 or less"
   ]
  },
  {
   "cell_type": "markdown",
   "metadata": {},
   "source": [
    "**Validation Data Height and Width CDF Plots**"
   ]
  },
  {
   "cell_type": "markdown",
   "metadata": {},
   "source": [
    "**Observation**\n",
    "1. Most of the Images have a height of 31\n",
    "2. Almost 95% of the Images have a height of 200 or less"
   ]
  },
  {
   "cell_type": "markdown",
   "metadata": {},
   "source": [
    "**Test Data Height and Width CDF Plots**"
   ]
  },
  {
   "cell_type": "markdown",
   "metadata": {},
   "source": [
    "**Observation**\n",
    "1. Most of the Images have a height of 31\n",
    "2. Almost 95% of the Images have a height of 200 or less"
   ]
  },
  {
   "cell_type": "markdown",
   "metadata": {},
   "source": [
    "**Conclusion**\n",
    "1. Most of the Images have a Height of 31\n",
    "2. Almost 95 % of the Images have a width of 200 or less\n",
    "3. Based on these observations we can resize the images to 32 (Height) x 170 (Width)"
   ]
  },
  {
   "cell_type": "markdown",
   "metadata": {},
   "source": [
    "### 7.2. Label Data Analysis"
   ]
  },
  {
   "cell_type": "code",
   "execution_count": null,
   "metadata": {},
   "outputs": [],
   "source": [
    "def pdf_label_lengths(label_len):\n",
    "    \"\"\"\n",
    "    Takes a list of label lengths as input and Plots PDF of lengths of Labels\n",
    "    \"\"\"\n",
    "    plt.figure(figsize=(10,6))\n",
    "    count_labels=np.array(label_len)\n",
    "    counts, bin_edges = np.histogram(count_labels, bins=8, \n",
    "                                 density = True)\n",
    "    pdf = counts/(sum(counts))\n",
    "    plt.plot(bin_edges[1:],pdf)\n",
    "    plt.xlabel('Length of Labels',fontsize=10)\n",
    "    plt.ylabel('PDF',fontsize=10)\n",
    "    plt.title('PDF Plot of lengths of Labels',fontsize=12)\n",
    "    #Last Element after sorting contains maximum of lengths in labels\n",
    "    max_len=max(label_len)\n",
    "    plt.show()\n",
    "    print('-'*100)\n",
    "    print('Maximum Length of Label: ',max_len)\n",
    "    print('-'*100)"
   ]
  },
  {
   "cell_type": "code",
   "execution_count": null,
   "metadata": {},
   "outputs": [],
   "source": [
    "def cdf_label_lengths(label_len):\n",
    "    \"\"\"\n",
    "    Takes a list of label lengths as input and Plots CDF of lengths of Labels\n",
    "    \"\"\"\n",
    "    plt.figure(figsize=(10,6))\n",
    "    count_labels=np.array(label_len)\n",
    "    counts, bin_edges = np.histogram(count_labels, bins=8, \n",
    "                                 density = True)\n",
    "    pdf = counts/(sum(counts))\n",
    "    cdf=np.cumsum(pdf)\n",
    "    plt.plot(bin_edges[1:],cdf)\n",
    "    plt.xlabel('Length of Labels',fontsize=10)\n",
    "    plt.ylabel('CDF',fontsize=10)\n",
    "    plt.title('CDF Plot of lengths of Labels',fontsize=12)\n",
    "    plt.show()"
   ]
  },
  {
   "cell_type": "code",
   "execution_count": null,
   "metadata": {},
   "outputs": [],
   "source": [
    "def top_5_lengths_percentage(label_len,counts,total):\n",
    "    \"\"\"\n",
    "    Takes Top 5 Label lengths, their respective counts , total length of labels and computes their percentages\n",
    "    and plots a bar graph with percentage of top 5 label lengths present in the data\n",
    "    \"\"\"\n",
    "    plt.figure(figsize=(10,6))\n",
    "    indices=np.arange(len(label_len))\n",
    "    counts=np.array(counts)\n",
    "    percent=(counts/total)*100\n",
    "    plt.bar(indices,percent)\n",
    "    plt.xlabel('Label Lengths',fontsize=10)\n",
    "    plt.ylabel('Percentages',fontsize=10)\n",
    "    plt.title('Percentages of Top 5 lengths of Labels',fontsize=12)\n",
    "    plt.xticks(indices,label_len)\n",
    "    plt.show()    "
   ]
  },
  {
   "cell_type": "code",
   "execution_count": null,
   "metadata": {},
   "outputs": [],
   "source": [
    "# https://stackoverflow.com/questions/19859282/check-if-a-string-contains-a-number\n",
    "import re\n",
    "def hasDigits(inputText):\n",
    "    \"\"\"\n",
    "    Returns True if the given input text has digits in it otherwise returns False\n",
    "    \"\"\"\n",
    "    return bool(re.search(r'\\d', inputText))"
   ]
  },
  {
   "cell_type": "code",
   "execution_count": null,
   "metadata": {},
   "outputs": [],
   "source": [
    "def digit_count(labels,size):\n",
    "    \"\"\"\n",
    "    Takes the list of labels and counts the number of labels with and without digits\n",
    "    and prints its percentage\n",
    "    \"\"\"\n",
    "    present=0\n",
    "    absent=0\n",
    "    for i in labels:\n",
    "        pres=hasDigits(i)\n",
    "        if pres==True:\n",
    "            present+=1\n",
    "        else:\n",
    "            absent+=1\n",
    "    present_percent=(present/size)*100\n",
    "    absent_percent=(absent/size)*100\n",
    "    print('Labels with Digits: ',present_percent,' %')\n",
    "    print('Labels without Digits: ',absent_percent,' %')        "
   ]
  },
  {
   "cell_type": "markdown",
   "metadata": {},
   "source": [
    "#### 7.2.1. Train Data"
   ]
  },
  {
   "cell_type": "code",
   "execution_count": null,
   "metadata": {},
   "outputs": [],
   "source": [
    "train_data=pd.read_csv('Train_data.csv')"
   ]
  },
  {
   "cell_type": "code",
   "execution_count": null,
   "metadata": {},
   "outputs": [],
   "source": [
    "train_data.drop(['Unnamed: 0'],axis=1,inplace=True)"
   ]
  },
  {
   "cell_type": "code",
   "execution_count": null,
   "metadata": {},
   "outputs": [],
   "source": [
    "train_label_len=[len(str(x)) for x in train_data['Labels'].values]"
   ]
  },
  {
   "cell_type": "code",
   "execution_count": null,
   "metadata": {},
   "outputs": [],
   "source": [
    "#Saving the updated Train Dataframe\n",
    "train_data.to_csv('Train_Final.csv')"
   ]
  },
  {
   "cell_type": "code",
   "execution_count": null,
   "metadata": {},
   "outputs": [],
   "source": [
    "from collections import Counter"
   ]
  },
  {
   "cell_type": "code",
   "execution_count": null,
   "metadata": {},
   "outputs": [],
   "source": [
    "train_label_len_dict=Counter(train_label_len)"
   ]
  },
  {
   "cell_type": "code",
   "execution_count": null,
   "metadata": {},
   "outputs": [
    {
     "data": {
      "text/plain": [
       "Counter({9: 208,\n",
       "         3: 1610,\n",
       "         5: 1664,\n",
       "         8: 461,\n",
       "         1: 104,\n",
       "         4: 1963,\n",
       "         6: 465,\n",
       "         7: 566,\n",
       "         2: 204,\n",
       "         10: 52,\n",
       "         11: 52})"
      ]
     },
     "execution_count": 42,
     "metadata": {},
     "output_type": "execute_result"
    }
   ],
   "source": [
    "#Printing Value counts of Label Lengths \n",
    "train_label_len_dict"
   ]
  },
  {
   "cell_type": "code",
   "execution_count": null,
   "metadata": {},
   "outputs": [],
   "source": [
    "# https://stackoverflow.com/questions/20944483/python-3-sort-a-dict-by-its-values\n",
    "#Sorting dict by value in decending order and storing keys\n",
    "train_keys = [k for k in sorted(train_label_len_dict, key=train_label_len_dict.get, reverse=True)]"
   ]
  },
  {
   "cell_type": "code",
   "execution_count": null,
   "metadata": {},
   "outputs": [],
   "source": [
    "#Taking Top 5 keys with highest values \n",
    "train_top_keys=train_keys[:5]\n",
    "train_top_values=[train_label_len_dict.get(k) for k in train_top_keys]"
   ]
  },
  {
   "cell_type": "markdown",
   "metadata": {},
   "source": [
    "**Train Data Label Lengths PDF**"
   ]
  },
  {
   "cell_type": "code",
   "execution_count": null,
   "metadata": {},
   "outputs": [
    {
     "data": {
      "image/png": "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",
      "text/plain": [
       "<Figure size 1000x600 with 1 Axes>"
      ]
     },
     "metadata": {},
     "output_type": "display_data"
    },
    {
     "name": "stdout",
     "output_type": "stream",
     "text": [
      "----------------------------------------------------------------------------------------------------\n",
      "Maximum Length of Label:  11\n",
      "----------------------------------------------------------------------------------------------------\n"
     ]
    }
   ],
   "source": [
    "pdf_label_lengths(train_label_len)"
   ]
  },
  {
   "cell_type": "markdown",
   "metadata": {},
   "source": [
    "**Observations:**\n",
    "1. Most of the Labels have lengths of 7,8 and 9 in Train Data\n",
    "2. Labels of length 4, 5 and 6 are fewer in number\n",
    "3. Higher length Labels are more in number compared to lower length labels"
   ]
  },
  {
   "cell_type": "markdown",
   "metadata": {},
   "source": [
    "**Train Data Label Lengths CDF Plot**"
   ]
  },
  {
   "cell_type": "code",
   "execution_count": null,
   "metadata": {},
   "outputs": [
    {
     "data": {
      "image/png": "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",
      "text/plain": [
       "<Figure size 1000x600 with 1 Axes>"
      ]
     },
     "metadata": {},
     "output_type": "display_data"
    }
   ],
   "source": [
    "cdf_label_lengths(train_label_len)"
   ]
  },
  {
   "cell_type": "markdown",
   "metadata": {},
   "source": [
    "**Observations:**\n",
    "1. Almost 60% of the Labels have length 9 or less\n",
    "2. There are 20% of the Labels which have length of 6 or less"
   ]
  },
  {
   "cell_type": "markdown",
   "metadata": {},
   "source": [
    "**Train Data Top 5 Label Lengths Count(%) Bar Graph**"
   ]
  },
  {
   "cell_type": "code",
   "execution_count": null,
   "metadata": {},
   "outputs": [
    {
     "data": {
      "image/png": "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",
      "text/plain": [
       "<Figure size 1000x600 with 1 Axes>"
      ]
     },
     "metadata": {},
     "output_type": "display_data"
    }
   ],
   "source": [
    "top_5_lengths_percentage(train_top_keys,train_top_values,len(train_label_len))"
   ]
  },
  {
   "cell_type": "markdown",
   "metadata": {},
   "source": [
    "**Observations:**\n",
    "1. There are almost equal number of labels with length 8 and 7 comprising of 17% each of total number of labels of different lengths in Train Data\n",
    "2. Labels of length 9 comprise 15% of total number of labels of different lengths in Train Data \n",
    "3. Labels of length 6 and 10 are almost equal comprising 12.5% of Total number of labels "
   ]
  },
  {
   "cell_type": "markdown",
   "metadata": {},
   "source": [
    "**Train Data Digit Presence Percentage**"
   ]
  },
  {
   "cell_type": "code",
   "execution_count": null,
   "metadata": {},
   "outputs": [
    {
     "name": "stdout",
     "output_type": "stream",
     "text": [
      "Labels with Digits:  0.0  %\n",
      "Labels without Digits:  100.0  %\n"
     ]
    }
   ],
   "source": [
    "train_labels=[str(x) for x in train_data['Labels'].values]\n",
    "digit_count(train_labels,len(train_labels))"
   ]
  },
  {
   "cell_type": "markdown",
   "metadata": {},
   "source": [
    "**Observations:**\n",
    "1. Almost all of the Labels in the Train Data do not have digits present in them comprising 99.925% of total data\n",
    "2. Very Few labels in Train Data have digits present with a very less percentage of 0.0705% of total data"
   ]
  },
  {
   "cell_type": "markdown",
   "metadata": {},
   "source": [
    "#### 7.2.2. Validation Data"
   ]
  },
  {
   "cell_type": "markdown",
   "metadata": {},
   "source": [
    "**Label Letters Data Analysis**"
   ]
  },
  {
   "cell_type": "code",
   "execution_count": null,
   "metadata": {},
   "outputs": [],
   "source": [
    "import pandas as pd\n",
    "train_data=pd.read_csv('Train_Final.csv')"
   ]
  },
  {
   "cell_type": "code",
   "execution_count": null,
   "metadata": {},
   "outputs": [],
   "source": [
    "letters='য়ণঋকঞঈী ষগেহঠনূঝোখশযথ্ঁডভধমঅওিংদউৃঙঔৎফঢটুইঃছচঐআঊএবসঘলাপতজর়'\n",
    "train_labels_combined=' '.join([str(x) for x in train_data['Labels'].values])\n",
    "#print(train_labels_combined)\n",
    "# print(''.join([str(x) for x in set(list(train_labels_combined))]))"
   ]
  },
  {
   "cell_type": "code",
   "execution_count": null,
   "metadata": {},
   "outputs": [
    {
     "name": "stdout",
     "output_type": "stream",
     "text": [
      "{'ঐ', '়', '্', 'ব', 'ং', 'ক', ' ', 'ে', 'থ', 'ফ', 'ই', 'ৃ', 'ন', 'ষ', 'গ', 'ঋ', 'ও', 'জ', 'ৎ', 'ঃ', 'ট', 'ধ', 'আ', 'ী', 'ঝ', 'ড', 'ঞ', 'া', 'ঘ', 'য', 'খ', 'উ', 'শ', 'ঢ', 'র', 'ি', 'ঁ', 'ল', 'ঔ', 'এ', 'চ', 'ছ', 'ো', 'ত', 'ণ', 'ম', 'ূ', 'প', 'অ', 'ঈ', 'ঊ', 'হ', 'ঙ', 'ভ', 'দ', 'ু', 'ঠ', 'য়', 'স'}\n"
     ]
    }
   ],
   "source": [
    "train_letter_set=set(list(train_labels_combined))\n",
    "print(train_letter_set)"
   ]
  },
  {
   "cell_type": "code",
   "execution_count": null,
   "metadata": {},
   "outputs": [
    {
     "name": "stdout",
     "output_type": "stream",
     "text": [
      "Number of unique Letters in Train Data:  59\n"
     ]
    }
   ],
   "source": [
    "print(\"Number of unique Letters in Train Data: \",len(train_letter_set))"
   ]
  },
  {
   "cell_type": "markdown",
   "metadata": {},
   "source": [
    "**Observation**\n",
    "All Letters in the alphabet are present in each of Train, Validation and Test Data"
   ]
  },
  {
   "cell_type": "markdown",
   "metadata": {},
   "source": [
    "#### Label Data Analysis Summary"
   ]
  },
  {
   "cell_type": "markdown",
   "metadata": {},
   "source": [
    "1. All of the Top 5 Label lengths present in Train, Validation and Test Data are same with Top 5 Label lengths being **7,8,9,6,10**\n",
    "2. The Distribution of Data in the Digit Presence in Labels perspective is uniform across Train, Validation and Test Data, each comprising almost **99%** of Labels without digits in them\n",
    "3. Top 2 Label Lengths are **7 , 8** across Train, Validation and Test Data\n",
    "4. These Factors ensure that some properties related to Labels in each of Train, Validation and Test Data are same and uniform"
   ]
  },
  {
   "cell_type": "markdown",
   "metadata": {},
   "source": [
    "### 7.3. Conclusions from Data Analysis"
   ]
  },
  {
   "cell_type": "markdown",
   "metadata": {},
   "source": [
    "1. Most of the Images around 90 % have height 32 and width less than 170\n",
    "2. Most of the Labels present have lengths 7,8 and 9\n",
    "3. Based on this we can re-size the images to 32 (Height) X 170 (Width)"
   ]
  },
  {
   "cell_type": "markdown",
   "metadata": {},
   "source": [
    "## 8. Utility Functions"
   ]
  },
  {
   "cell_type": "code",
   "execution_count": null,
   "metadata": {},
   "outputs": [],
   "source": [
    "import keras\n",
    "import random\n",
    "from keras import backend as K\n",
    "import warnings\n",
    "warnings.filterwarnings(\"ignore\")"
   ]
  },
  {
   "cell_type": "code",
   "execution_count": null,
   "metadata": {},
   "outputs": [
    {
     "name": "stdout",
     "output_type": "stream",
     "text": [
      "59\n",
      "য়ণঋকঞঈী ষগেহঠনূঝোখশযথ্ঁডভধমঅওিংদউৃঙঔৎফঢটুইঃছচঐআঊএবসঘলাপতজর়\n"
     ]
    }
   ],
   "source": [
    "#Letters present in the Label Text\n",
    "print(len(letters))\n",
    "#letters= ''.join([str(x) for x in set(list(train_labels_combined))])\n",
    "print(letters)"
   ]
  },
  {
   "cell_type": "code",
   "execution_count": null,
   "metadata": {},
   "outputs": [],
   "source": [
    "#image height\n",
    "img_h=32\n",
    "#image width\n",
    "img_w=170\n",
    "#image Channels\n",
    "img_c=1\n",
    "# classes for softmax with number of letters +1 for blank space in ctc\n",
    "num_classes=len(letters)+1\n",
    "batch_size=64\n",
    "max_length=15 # considering max length of ground truths labels to be 15"
   ]
  },
  {
   "cell_type": "code",
   "execution_count": null,
   "metadata": {},
   "outputs": [
    {
     "name": "stdout",
     "output_type": "stream",
     "text": [
      "[3, 57, 10]\n",
      "{0: 'য়', 1: 'ণ', 2: 'ঋ', 3: 'ক', 4: 'ঞ', 5: 'ঈ', 6: 'ী', 7: ' ', 8: 'ষ', 9: 'গ', 10: 'ে', 11: 'হ', 12: 'ঠ', 13: 'ন', 14: 'ূ', 15: 'ঝ', 16: 'ো', 17: 'খ', 18: 'শ', 19: 'য', 20: 'থ', 21: '্', 22: 'ঁ', 23: 'ড', 24: 'ভ', 25: 'ধ', 26: 'ম', 27: 'অ', 28: 'ও', 29: 'ি', 30: 'ং', 31: 'দ', 32: 'উ', 33: 'ৃ', 34: 'ঙ', 35: 'ঔ', 36: 'ৎ', 37: 'ফ', 38: 'ঢ', 39: 'ট', 40: 'ু', 41: 'ই', 42: 'ঃ', 43: 'ছ', 44: 'চ', 45: 'ঐ', 46: 'আ', 47: 'ঊ', 48: 'এ', 49: 'ব', 50: 'স', 51: 'ঘ', 52: 'ল', 53: 'া', 54: 'প', 55: 'ত', 56: 'জ', 57: 'র', 58: '়'}\n"
     ]
    }
   ],
   "source": [
    "def encode_words_labels(word):\n",
    "    \"\"\"\n",
    "    Encodes the Ground Truth Labels to a list of Values like eg.HAT returns [17,10,29]\n",
    "    \"\"\"\n",
    "    label_lst=[]\n",
    "    for char in word:\n",
    "        label_lst.append(letters.find(char)) # keeping 0 for blank and for padding labels\n",
    "    return label_lst\n",
    "\n",
    "print(encode_words_labels('করে'))\n",
    "val=dict(zip(range(len(letters)),letters))\n",
    "print(val)"
   ]
  },
  {
   "cell_type": "code",
   "execution_count": null,
   "metadata": {},
   "outputs": [],
   "source": [
    "def words_from_labels(labels):\n",
    "    \"\"\"\n",
    "    converts the list of encoded integer labels to word strings like eg. [12,10,29] returns CAT \n",
    "    \"\"\"\n",
    "    txt=[]\n",
    "    for ele in labels:\n",
    "        if ele == len(letters): # CTC blank space\n",
    "            txt.append(\"\")\n",
    "        else:\n",
    "            #print(letters[ele])\n",
    "            txt.append(letters[ele])\n",
    "    return \"\".join(txt)"
   ]
  },
  {
   "cell_type": "code",
   "execution_count": null,
   "metadata": {},
   "outputs": [],
   "source": [
    "def ctc_loss_function(args):\n",
    "    \"\"\"\n",
    "    CTC loss function takes the values passed from the model returns the CTC loss using Keras Backend ctc_batch_cost function\n",
    "    \"\"\"\n",
    "    from keras import backend as K\n",
    "    y_pred, y_true, input_length, label_length = args \n",
    "    # since the first couple outputs of the RNN tend to be garbage we need to discard them, found this from other CRNN approaches\n",
    "    # I Tried by including these outputs but the results turned out to be very bad and got very low accuracies on prediction \n",
    "    y_pred = y_pred[:, 2:, :]\n",
    "    return K.ctc_batch_cost(y_true, y_pred, input_length, label_length)   "
   ]
  },
  {
   "cell_type": "markdown",
   "metadata": {},
   "source": [
    "## 9. Data Generation"
   ]
  },
  {
   "cell_type": "markdown",
   "metadata": {},
   "source": [
    "Since the CTC loss fuction computed using Keras Backend ctc_batch_cost function requires 4 inputs, we build a **Data genearator class** and define the parameters for our input image and also process the 4 inputs which needs to be passed to the model for computing CTC loss"
   ]
  },
  {
   "cell_type": "code",
   "execution_count": null,
   "metadata": {},
   "outputs": [],
   "source": [
    "#https://github.com/qjadud1994/CRNN-Keras\n",
    "#https://keras.io/examples/image_ocr/\n",
    "\n",
    "class DataGenerator(keras.callbacks.Callback):\n",
    "    def __init__(self, img_dirpath, img_w, img_h,\n",
    "                 batch_size,n,output_labels,max_text_len=15):\n",
    "        self.img_h = img_h                    #Image Height\n",
    "        self.img_w = img_w                    #Image Width\n",
    "        self.batch_size = batch_size          #Batch size of Input\n",
    "        self.max_text_len = max_text_len      #Maximum Text length of Labels\n",
    "        \n",
    "        # self.n =len(self.img_dir)                           #Number of images in img_matrix\n",
    "        self.n=n\n",
    "        self.img_dir = img_dirpath[:self.n]     # images list\n",
    "        self.indexes = list(range(self.n))   #List of indices for each image in img_matrix\n",
    "        self.cur_index = 0                   #Current index which points to image being loaded \n",
    "        self.imgs = np.zeros((self.n, self.img_h, self.img_w))\n",
    "        self.texts =  output_labels[:self.n]                  #List of Ground Truth Label texts\n",
    "\n",
    "   \n",
    "    def build_data(self):\n",
    "        \"\"\"\n",
    "        Build The Image Data\n",
    "        \"\"\"\n",
    "        print(self.n, \" Image Loading start...\")\n",
    "        for i, img_file in enumerate(self.img_dir):\n",
    "            img = cv2.imread(img_file)\n",
    "            img = img[:,:,1]                               #Extracting Single Channel Image\n",
    "            img = cv2.resize(img, (self.img_w, self.img_h))\n",
    "            img = img /255\n",
    "            self.imgs[i, :, :]= img\n",
    "            if i%10000==0:\n",
    "                print(\"Loaded Images: \",i)\n",
    "           \n",
    "        print(\"Number of Texts matches with Total Number of Images :\",len(self.texts) == self.n)\n",
    "        print(self.n, \" Image Loading finish...\")\n",
    "\n",
    "\n",
    "    def next_data(self): \n",
    "        \"\"\"\n",
    "        Returns image and text data pointed by the current index\n",
    "        \"\"\"\n",
    "        self.cur_index += 1\n",
    "        #If current index becomes more than the number of images, make current index 0 \n",
    "        #and shuffle the indices list for random picking of image and text data\n",
    "        if self.cur_index >= self.n:\n",
    "            self.cur_index = 0\n",
    "            random.shuffle(self.indexes)\n",
    "        return self.imgs[self.indexes[self.cur_index]], self.texts[self.indexes[self.cur_index]]\n",
    "\n",
    "    def next_batch(self):\n",
    "        \"\"\"\n",
    "        Creates a batch of images images and text data equal to the batch_size,\n",
    "        computes the parameters needed for CTC and returns the inputs to the Model\n",
    "        \"\"\"\n",
    "        while True:\n",
    "            X_data = np.ones([self.batch_size, self.img_w, self.img_h, 1])  #Single channel Gray Size Scale images for input\n",
    "            #Initilizing with -1 to aid for padding labels of different lengths\n",
    "            Y_data = np.ones([self.batch_size, self.max_text_len])* -1        #Text labels for input\n",
    "           #input_length for CTC which is the number of time-steps of the RNN output\n",
    "            input_length = np.ones((self.batch_size, 1)) * 40\n",
    "            label_length = np.zeros((self.batch_size, 1))                   #label length for CTC\n",
    "            source_str=[]                                                   #List to store Ground Truth Labels\n",
    "            for i in range(self.batch_size):\n",
    "                img, text = self.next_data() #getting the image and text data pointed by current index\n",
    "                                    #taking transpose of image\n",
    "                img=img.T\n",
    "                img = np.expand_dims(img, -1)  #expanding image to have a single channel\n",
    "                X_data[i] = img\n",
    "                label=encode_words_labels(text) # encoding label text to integer list and storing in temp label variable\n",
    "                lbl_len=len(label)\n",
    "                Y_data[i,0:lbl_len] = label #Storing the label till its length and padding others\n",
    "                label_length[i] = len(label)\n",
    "                source_str.append(text) #storing Ground Truth Labels which will be accessed as reference for calculating metrics\n",
    "            \n",
    "        #Preparing the input for the Model\n",
    "            inputs = {\n",
    "                'img_input': X_data,  \n",
    "                'ground_truth_labels': Y_data,  \n",
    "                'input_length': input_length,  \n",
    "                'label_length': label_length,\n",
    "                'source_str': source_str  # used for visualization only\n",
    "            }\n",
    "            #Preparing output for the Model and intializing to zeros\n",
    "            outputs = {'ctc': np.zeros([self.batch_size])}  \n",
    "            yield (inputs, outputs) # Return the Prepared input and output to the Model"
   ]
  },
  {
   "cell_type": "markdown",
   "metadata": {},
   "source": [
    "## 10. Overview of Model"
   ]
  },
  {
   "cell_type": "markdown",
   "metadata": {},
   "source": [
    "**Below is the Representation of Model Overview presented in the Research Paper**"
   ]
  },
  {
   "cell_type": "markdown",
   "metadata": {},
   "source": [
    "**The architecture consists of three parts:**\n",
    "1. convolutional layers, which extract a feature sequence from the input image; \n",
    "2. recurrentlayers, which predict a label distribution for each frame; \n",
    "3. transcription layer, which translates the per-frame predictions into the final label sequence"
   ]
  },
  {
   "cell_type": "markdown",
   "metadata": {},
   "source": [
    "**Source: https://ieeexplore.ieee.org/abstract/document/7801919**"
   ]
  },
  {
   "cell_type": "markdown",
   "metadata": {},
   "source": [
    "## 11. Model Architecture"
   ]
  },
  {
   "cell_type": "markdown",
   "metadata": {},
   "source": [
    "**Below is the Model Architecture presented in the Research Paper which is implemented as a part of the Case Study for Scene Text Recognition Problem** "
   ]
  },
  {
   "cell_type": "markdown",
   "metadata": {},
   "source": [
    "**Source: https://ieeexplore.ieee.org/abstract/document/7801919**"
   ]
  },
  {
   "cell_type": "markdown",
   "metadata": {},
   "source": [
    "## 12. Model Implementation"
   ]
  },
  {
   "cell_type": "code",
   "execution_count": null,
   "metadata": {},
   "outputs": [],
   "source": [
    "import tensorflow as tf\n",
    "from keras.layers import Input, Conv2D, MaxPool2D, Dense,MaxPooling2D\n",
    "from keras.layers import AveragePooling2D, Flatten, Activation, Bidirectional\n",
    "from keras.layers import BatchNormalization, Dropout\n",
    "from keras.layers import Concatenate, Add, Multiply, Lambda\n",
    "from keras.layers import UpSampling2D, Reshape\n",
    "from keras.layers import add,concatenate\n",
    "from keras.layers import Reshape\n",
    "from keras.models import Model\n",
    "from keras.layers import LSTM,GRU\n"
   ]
  },
  {
   "cell_type": "markdown",
   "metadata": {},
   "source": [
    "## 12.1. Model 1"
   ]
  },
  {
   "cell_type": "markdown",
   "metadata": {},
   "source": [
    "**Model with Bi-Directional LSTM units and Adam Optimizer**"
   ]
  },
  {
   "cell_type": "markdown",
   "metadata": {},
   "source": [
    "The Model Architecture has 2 Stages:\n",
    "1. **Train Stage:** which takes input image, text labels (encoded as integers), input length (time-steps length), label length and outputs CTC loss\n",
    "2. **Prediction Stage:** which takes input image and outputs a matrix of dimesnions 48x37 where 48 is the number of time-steps of RNN and 37 is the length of letters + 1 character for ctc blank "
   ]
  },
  {
   "cell_type": "code",
   "execution_count": null,
   "metadata": {},
   "outputs": [],
   "source": [
    "def Image_text_recogniser_model_1(stage,drop_out_rate=0.35):\n",
    "    \"\"\"\n",
    "    Builds the model by taking in the stage variable which specifes the stage,\n",
    "    if the stage is training: model takes inputs required for computing ctc_batch_cost function\n",
    "    else : model takes input as images which is used for prediction\n",
    "    \"\"\"\n",
    "    \n",
    "    if K.image_data_format() == 'channels_first':\n",
    "        input_shape = (1, img_w, img_h)\n",
    "    else:\n",
    "        input_shape = (img_w, img_h, 1)\n",
    "       \n",
    "    model_input=Input(shape=input_shape,name='img_input',dtype='float32')\n",
    "\n",
    "    # Convolution layer \n",
    "    model = Conv2D(64, (3, 3), padding='same', name='conv1', kernel_initializer='he_normal')(model_input) \n",
    "    model = BatchNormalization()(model)\n",
    "    model = Activation('relu')(model)\n",
    "    model = MaxPooling2D(pool_size=(2, 2), name='max1')(model) \n",
    "\n",
    "    model = Conv2D(128, (3, 3), padding='same', name='conv2', kernel_initializer='he_normal')(model) \n",
    "    model = BatchNormalization()(model)\n",
    "    model = Activation('relu')(model)\n",
    "    model = MaxPooling2D(pool_size=(2, 2), name='max2')(model) \n",
    "\n",
    "    model = Conv2D(256, (3, 3), padding='same', name='conv3', kernel_initializer='he_normal')(model) \n",
    "    model = BatchNormalization()(model)\n",
    "    model = Activation('relu')(model)\n",
    "    model = Conv2D(256, (3, 3), padding='same', name='conv4', kernel_initializer='he_normal')(model)\n",
    "    model=Dropout(drop_out_rate)(model)\n",
    "    model = BatchNormalization()(model)\n",
    "    model = Activation('relu')(model)\n",
    "    model = MaxPooling2D(pool_size=(1, 2), name='max3')(model)  \n",
    "\n",
    "    model = Conv2D(512, (3, 3), padding='same', name='conv5', kernel_initializer='he_normal')(model) \n",
    "    model = BatchNormalization()(model)\n",
    "    model = Activation('relu')(model)\n",
    "    model = Conv2D(512, (3, 3), padding='same', name='conv6')(model)\n",
    "    model=Dropout(drop_out_rate)(model)\n",
    "    model = BatchNormalization()(model)\n",
    "    model = Activation('relu')(model)\n",
    "    model = MaxPooling2D(pool_size=(1, 2), name='max4')(model) \n",
    "\n",
    "    model = Conv2D(512, (2, 2), padding='same', kernel_initializer='he_normal', name='con7')(model)\n",
    "    model=Dropout(0.25)(model)\n",
    "    model = BatchNormalization()(model)\n",
    "    model = Activation('relu')(model)    \n",
    "\n",
    "    # CNN to RNN\n",
    "    model = Reshape(target_shape=((42, 1024)), name='reshape')(model)  \n",
    "    model = Dense(64, activation='relu', kernel_initializer='he_normal', name='dense1')(model)  \n",
    "\n",
    "    # RNN layer\n",
    "    model=Bidirectional(LSTM(256, return_sequences=True, kernel_initializer='he_normal'), merge_mode='sum')(model)\n",
    "    model=Bidirectional(LSTM(256, return_sequences=True, kernel_initializer='he_normal'), merge_mode='concat')(model)\n",
    "\n",
    "    # transforms RNN output to character activations:\n",
    "    model = Dense(num_classes, kernel_initializer='he_normal',name='dense2')(model) \n",
    "    y_pred = Activation('softmax', name='softmax')(model)\n",
    "\n",
    "    \n",
    "    labels = Input(name='ground_truth_labels', shape=[max_length], dtype='float32') \n",
    "    input_length = Input(name='input_length', shape=[1], dtype='int64') \n",
    "    label_length = Input(name='label_length', shape=[1], dtype='int64') \n",
    "\n",
    "    #CTC loss function\n",
    "    loss_out = Lambda(ctc_loss_function, output_shape=(1,),name='ctc')([y_pred, labels, input_length, label_length]) #(None, 1)\n",
    "\n",
    "    if stage=='train':\n",
    "        return model_input,y_pred,Model(inputs=[model_input, labels, input_length, label_length], outputs=loss_out)\n",
    "    else:\n",
    "        return Model(inputs=[model_input], outputs=y_pred)        "
   ]
  },
  {
   "cell_type": "code",
   "execution_count": null,
   "metadata": {},
   "outputs": [],
   "source": [
    "model_input,y_pred,img_text_recog=Image_text_recogniser_model_1('train')"
   ]
  },
  {
   "cell_type": "code",
   "execution_count": null,
   "metadata": {},
   "outputs": [],
   "source": [
    "#used for visualization\n",
    "# it is a keras backend function used to capture the model ouputs so that it can be used for decoding and calculating metrics\n",
    "test_func = K.function([model_input], [y_pred])"
   ]
  },
  {
   "cell_type": "code",
   "execution_count": null,
   "metadata": {},
   "outputs": [
    {
     "name": "stdout",
     "output_type": "stream",
     "text": [
      "Model: \"model\"\n",
      "__________________________________________________________________________________________________\n",
      " Layer (type)                   Output Shape         Param #     Connected to                     \n",
      "==================================================================================================\n",
      " img_input (InputLayer)         [(None, 170, 32, 1)  0           []                               \n",
      "                                ]                                                                 \n",
      "                                                                                                  \n",
      " conv1 (Conv2D)                 (None, 170, 32, 64)  640         ['img_input[0][0]']              \n",
      "                                                                                                  \n",
      " batch_normalization (BatchNorm  (None, 170, 32, 64)  256        ['conv1[0][0]']                  \n",
      " alization)                                                                                       \n",
      "                                                                                                  \n",
      " activation (Activation)        (None, 170, 32, 64)  0           ['batch_normalization[0][0]']    \n",
      "                                                                                                  \n",
      " max1 (MaxPooling2D)            (None, 85, 16, 64)   0           ['activation[0][0]']             \n",
      "                                                                                                  \n",
      " conv2 (Conv2D)                 (None, 85, 16, 128)  73856       ['max1[0][0]']                   \n",
      "                                                                                                  \n",
      " batch_normalization_1 (BatchNo  (None, 85, 16, 128)  512        ['conv2[0][0]']                  \n",
      " rmalization)                                                                                     \n",
      "                                                                                                  \n",
      " activation_1 (Activation)      (None, 85, 16, 128)  0           ['batch_normalization_1[0][0]']  \n",
      "                                                                                                  \n",
      " max2 (MaxPooling2D)            (None, 42, 8, 128)   0           ['activation_1[0][0]']           \n",
      "                                                                                                  \n",
      " conv3 (Conv2D)                 (None, 42, 8, 256)   295168      ['max2[0][0]']                   \n",
      "                                                                                                  \n",
      " batch_normalization_2 (BatchNo  (None, 42, 8, 256)  1024        ['conv3[0][0]']                  \n",
      " rmalization)                                                                                     \n",
      "                                                                                                  \n",
      " activation_2 (Activation)      (None, 42, 8, 256)   0           ['batch_normalization_2[0][0]']  \n",
      "                                                                                                  \n",
      " conv4 (Conv2D)                 (None, 42, 8, 256)   590080      ['activation_2[0][0]']           \n",
      "                                                                                                  \n",
      " dropout (Dropout)              (None, 42, 8, 256)   0           ['conv4[0][0]']                  \n",
      "                                                                                                  \n",
      " batch_normalization_3 (BatchNo  (None, 42, 8, 256)  1024        ['dropout[0][0]']                \n",
      " rmalization)                                                                                     \n",
      "                                                                                                  \n",
      " activation_3 (Activation)      (None, 42, 8, 256)   0           ['batch_normalization_3[0][0]']  \n",
      "                                                                                                  \n",
      " max3 (MaxPooling2D)            (None, 42, 4, 256)   0           ['activation_3[0][0]']           \n",
      "                                                                                                  \n",
      " conv5 (Conv2D)                 (None, 42, 4, 512)   1180160     ['max3[0][0]']                   \n",
      "                                                                                                  \n",
      " batch_normalization_4 (BatchNo  (None, 42, 4, 512)  2048        ['conv5[0][0]']                  \n",
      " rmalization)                                                                                     \n",
      "                                                                                                  \n",
      " activation_4 (Activation)      (None, 42, 4, 512)   0           ['batch_normalization_4[0][0]']  \n",
      "                                                                                                  \n",
      " conv6 (Conv2D)                 (None, 42, 4, 512)   2359808     ['activation_4[0][0]']           \n",
      "                                                                                                  \n",
      " dropout_1 (Dropout)            (None, 42, 4, 512)   0           ['conv6[0][0]']                  \n",
      "                                                                                                  \n",
      " batch_normalization_5 (BatchNo  (None, 42, 4, 512)  2048        ['dropout_1[0][0]']              \n",
      " rmalization)                                                                                     \n",
      "                                                                                                  \n",
      " activation_5 (Activation)      (None, 42, 4, 512)   0           ['batch_normalization_5[0][0]']  \n",
      "                                                                                                  \n",
      " max4 (MaxPooling2D)            (None, 42, 2, 512)   0           ['activation_5[0][0]']           \n",
      "                                                                                                  \n",
      " con7 (Conv2D)                  (None, 42, 2, 512)   1049088     ['max4[0][0]']                   \n",
      "                                                                                                  \n",
      " dropout_2 (Dropout)            (None, 42, 2, 512)   0           ['con7[0][0]']                   \n",
      "                                                                                                  \n",
      " batch_normalization_6 (BatchNo  (None, 42, 2, 512)  2048        ['dropout_2[0][0]']              \n",
      " rmalization)                                                                                     \n",
      "                                                                                                  \n",
      " activation_6 (Activation)      (None, 42, 2, 512)   0           ['batch_normalization_6[0][0]']  \n",
      "                                                                                                  \n",
      " reshape (Reshape)              (None, 42, 1024)     0           ['activation_6[0][0]']           \n",
      "                                                                                                  \n",
      " dense1 (Dense)                 (None, 42, 64)       65600       ['reshape[0][0]']                \n",
      "                                                                                                  \n",
      " bidirectional (Bidirectional)  (None, 42, 256)      657408      ['dense1[0][0]']                 \n",
      "                                                                                                  \n",
      " bidirectional_1 (Bidirectional  (None, 42, 512)     1050624     ['bidirectional[0][0]']          \n",
      " )                                                                                                \n",
      "                                                                                                  \n",
      " dense2 (Dense)                 (None, 42, 60)       30780       ['bidirectional_1[0][0]']        \n",
      "                                                                                                  \n",
      " softmax (Activation)           (None, 42, 60)       0           ['dense2[0][0]']                 \n",
      "                                                                                                  \n",
      " ground_truth_labels (InputLaye  [(None, 15)]        0           []                               \n",
      " r)                                                                                               \n",
      "                                                                                                  \n",
      " input_length (InputLayer)      [(None, 1)]          0           []                               \n",
      "                                                                                                  \n",
      " label_length (InputLayer)      [(None, 1)]          0           []                               \n",
      "                                                                                                  \n",
      " ctc (Lambda)                   (None, 1)            0           ['softmax[0][0]',                \n",
      "                                                                  'ground_truth_labels[0][0]',    \n",
      "                                                                  'input_length[0][0]',           \n",
      "                                                                  'label_length[0][0]']           \n",
      "                                                                                                  \n",
      "==================================================================================================\n",
      "Total params: 7,362,172\n",
      "Trainable params: 7,357,692\n",
      "Non-trainable params: 4,480\n",
      "__________________________________________________________________________________________________\n"
     ]
    }
   ],
   "source": [
    "img_text_recog.summary()"
   ]
  },
  {
   "cell_type": "markdown",
   "metadata": {},
   "source": [
    "The Function Takes the final 40x37 output matrices from the model for the batch from test_func function, and takes the argmax of the matrix across each column (which returns a value between 0 to 36 (ctc_blank) both included). The outputs are then merged for repeated values and gives a list of integers. The Final output integers is then converted to final output string text and stored in a list. The Final List containing all decoded outputs are returened by the function"
   ]
  },
  {
   "cell_type": "code",
   "execution_count": null,
   "metadata": {},
   "outputs": [],
   "source": [
    "def decode_batch(test_func, word_batch):\n",
    "    \"\"\"\n",
    "    Takes the Batch of Predictions and decodes the Predictions by Best Path Decoding and Returns the Output\n",
    "    \"\"\"\n",
    "    out = test_func([word_batch])[0] #returns the predicted output matrix of the model\n",
    "    ret = []\n",
    "    for j in range(out.shape[0]):\n",
    "        out_best = list(np.argmax(out[j, 2:], 1))\n",
    "        out_best = [k for k, g in itertools.groupby(out_best)]\n",
    "        outstr = words_from_labels(out_best)\n",
    "        ret.append(outstr)\n",
    "    return ret"
   ]
  },
  {
   "cell_type": "code",
   "execution_count": null,
   "metadata": {},
   "outputs": [],
   "source": [
    "def accuracies(actual_labels,predicted_labels,is_train):\n",
    "    \"\"\"\n",
    "    Takes a List of Actual Outputs, predicted Outputs and returns their accuracy and letter accuracy across\n",
    "    all the labels in the list\n",
    "    \"\"\"\n",
    "    accuracy=0\n",
    "    letter_acc=0\n",
    "    letter_cnt=0\n",
    "    count=0\n",
    "    for i in range(len(actual_labels)):\n",
    "        predicted_output=predicted_labels[i]\n",
    "        actual_output=actual_labels[i]\n",
    "        count+=1\n",
    "        for j in range(min(len(predicted_output),len(actual_output))):\n",
    "            if predicted_output[j]==actual_output[j]:\n",
    "                letter_acc+=1\n",
    "        letter_cnt+=max(len(predicted_output),len(actual_output))\n",
    "        if actual_output==predicted_output:\n",
    "            accuracy+=1\n",
    "    final_accuracy=np.round((accuracy/len(actual_labels))*100,2)\n",
    "    final_letter_acc=np.round((letter_acc/letter_cnt)*100,2)\n",
    "    return final_accuracy,final_letter_acc"
   ]
  },
  {
   "cell_type": "markdown",
   "metadata": {},
   "source": [
    "**CallBacks**"
   ]
  },
  {
   "cell_type": "code",
   "execution_count": null,
   "metadata": {},
   "outputs": [],
   "source": [
    "#https://keras.io/examples/image_ocr/\n",
    "class VizCallback(keras.callbacks.Callback):\n",
    "    \"\"\"\n",
    "    The Custom Callback created for printing the Accuracy and Letter Accuracy Metrics at the End of Each Epoch\n",
    "    \"\"\"\n",
    "\n",
    "    def __init__(self, test_func, text_img_gen,is_train,acc_compute_batches):\n",
    "        self.test_func = test_func\n",
    "        self.text_img_gen = text_img_gen\n",
    "        self.is_train=is_train                #used to indicate whether the callback is called to for Train or Validation Data\n",
    "        self.acc_batches=acc_compute_batches  # Number of Batches for which the metrics are computed typically equal to steps/epoch\n",
    "\n",
    "    def show_accuracy_metrics(self,num_batches):\n",
    "        \"\"\"\n",
    "        Calculates the accuracy and letter accuracy for each batch of inputs, \n",
    "        and prints the avarage accuracy and letter accuracy across all the batches\n",
    "        \"\"\"\n",
    "        accuracy=0\n",
    "        letter_accuracy=0\n",
    "        batches_cnt=num_batches\n",
    "        while batches_cnt>0:\n",
    "            word_batch = next(self.text_img_gen)[0]   #Gets the next batch from the Data generator\n",
    "            decoded_res = decode_batch(self.test_func,word_batch['img_input'])\n",
    "            actual_res=word_batch['source_str']\n",
    "            acc,let_acc=accuracies(actual_res,decoded_res,self.is_train)\n",
    "            accuracy+=acc\n",
    "            letter_accuracy+=let_acc\n",
    "            batches_cnt-=1\n",
    "        accuracy=accuracy/num_batches\n",
    "        letter_accuracy=letter_accuracy/num_batches\n",
    "        if self.is_train:\n",
    "            print(\"Train Average Accuracy of \"+str(num_batches)+\" Batches: \",np.round(accuracy,2),\" %\")\n",
    "            print(\"Train Average Letter Accuracy of \"+str(num_batches)+\" Batches: \",np.round(letter_accuracy,2),\" %\")\n",
    "        else:\n",
    "            print(\"Validation Average Accuracy of \"+str(num_batches)+\" Batches: \",np.round(accuracy,2),\" %\")\n",
    "            print(\"Validation Average Letter Accuracy of \"+str(num_batches)+\" Batches: \",np.round(letter_accuracy,2),\" %\")\n",
    "            \n",
    "        \n",
    "    def on_epoch_end(self, epoch, logs={}):\n",
    "        self.show_accuracy_metrics(self.acc_batches)\n",
    "        "
   ]
  },
  {
   "cell_type": "code",
   "execution_count": null,
   "metadata": {},
   "outputs": [],
   "source": [
    "import datetime"
   ]
  },
  {
   "cell_type": "code",
   "execution_count": null,
   "metadata": {},
   "outputs": [
    {
     "name": "stdout",
     "output_type": "stream",
     "text": [
      "WARNING:tensorflow:`period` argument is deprecated. Please use `save_freq` to specify the frequency in number of batches seen.\n"
     ]
    }
   ],
   "source": [
    "from keras.callbacks import EarlyStopping,ModelCheckpoint\n",
    "early_stop=EarlyStopping(monitor='val_loss',patience=2,restore_best_weights=True)\n",
    "model_chk_pt=ModelCheckpoint('weights.{epoch:02d}-{val_loss:.2f}.hdf5', monitor='val_loss', save_best_only=False,save_weights_only=True,verbose=0, mode='auto', period=2)"
   ]
  },
  {
   "cell_type": "code",
   "execution_count": null,
   "metadata": {},
   "outputs": [],
   "source": [
    "logdir = os.path.join(\"logs_127\", datetime.datetime.now().strftime(\"%Y%m%d-%H%M%S\"))"
   ]
  },
  {
   "cell_type": "code",
   "execution_count": null,
   "metadata": {},
   "outputs": [],
   "source": [
    "tensorboard_callback = keras.callbacks.TensorBoard(log_dir=logdir)"
   ]
  },
  {
   "cell_type": "code",
   "execution_count": null,
   "metadata": {},
   "outputs": [],
   "source": [
    "# %tensorboard --logdir logs_127"
   ]
  },
  {
   "cell_type": "markdown",
   "metadata": {},
   "source": [
    "**Labels Loading**"
   ]
  },
  {
   "cell_type": "code",
   "execution_count": null,
   "metadata": {},
   "outputs": [],
   "source": [
    "#Loading Train Data Labels\n",
    "Train_labels=[str(x) for x in train_data['Labels'].values]"
   ]
  },
  {
   "cell_type": "code",
   "execution_count": null,
   "metadata": {},
   "outputs": [
    {
     "name": "stdout",
     "output_type": "stream",
     "text": [
      "7349\n"
     ]
    }
   ],
   "source": [
    "train_paths=[str(x) for x in train_data['ImageName'].values]\n",
    "print(len(train_data['ImageName']))"
   ]
  },
  {
   "cell_type": "code",
   "execution_count": null,
   "metadata": {},
   "outputs": [],
   "source": [
    "train_nan_cnt=0\n",
    "train_nan_replaced=False\n",
    "for i in range(len(Train_labels)):\n",
    "    if Train_labels[i]=='nan':\n",
    "        Train_labels[i]='NULL'\n",
    "        train_nan_replaced=True\n",
    "        train_nan_cnt+=1"
   ]
  },
  {
   "cell_type": "code",
   "execution_count": null,
   "metadata": {},
   "outputs": [
    {
     "name": "stdout",
     "output_type": "stream",
     "text": [
      "Was there any NULL values written as Nan in Train Data: False\n",
      "Train Nan count:  0\n"
     ]
    }
   ],
   "source": [
    "print('Was there any NULL values written as Nan in Train Data:',train_nan_replaced)\n",
    "print('Train Nan count: ',train_nan_cnt)"
   ]
  },
  {
   "cell_type": "markdown",
   "metadata": {},
   "source": [
    "**Instatiating Data Generator**"
   ]
  },
  {
   "cell_type": "code",
   "execution_count": null,
   "metadata": {},
   "outputs": [],
   "source": [
    "train_gene=DataGenerator(train_paths,img_w, img_h,batch_size,len(train_data['ImageName']),Train_labels)"
   ]
  },
  {
   "cell_type": "code",
   "execution_count": null,
   "metadata": {},
   "outputs": [
    {
     "name": "stdout",
     "output_type": "stream",
     "text": [
      "7349  Image Loading start...\n",
      "Loaded Images:  0\n",
      "Number of Texts matches with Total Number of Images : True\n",
      "7349  Image Loading finish...\n"
     ]
    }
   ],
   "source": [
    "train_gene.build_data()"
   ]
  },
  {
   "cell_type": "code",
   "execution_count": null,
   "metadata": {},
   "outputs": [],
   "source": [
    "train_num_batches=int(train_gene.n / batch_size)"
   ]
  },
  {
   "cell_type": "code",
   "execution_count": null,
   "metadata": {},
   "outputs": [],
   "source": [
    "viz_cb_train = VizCallback( test_func, train_gene.next_batch(),True,train_num_batches)"
   ]
  },
  {
   "cell_type": "markdown",
   "metadata": {},
   "source": [
    "**Defining Optimizer**"
   ]
  },
  {
   "cell_type": "code",
   "execution_count": null,
   "metadata": {},
   "outputs": [],
   "source": [
    "from keras import optimizers\n",
    "adam=optimizers.Adam()"
   ]
  },
  {
   "cell_type": "markdown",
   "metadata": {},
   "source": [
    "In the Keras functionnal API, we can define, train and use a neural network using the Model class. The loss functions that can be used in a class Model have only 2 arguments, the ground truth y_true and the prediction y_pred given in output of the neural network. At present, there is no CTC loss proposed in a Keras Model and, Keras doesn’t currently support loss functions with extra parameters, which is the case for a CTC loss that requires sequence lengths for batch training. Indeed, as observation and label sequences are of variable length, one has to provide the length of each sequence (observation and label), which allows to not consider padding in the loss computation"
   ]
  },
  {
   "cell_type": "code",
   "execution_count": null,
   "metadata": {},
   "outputs": [],
   "source": [
    "#Creating a Dummy Loss function as in Keras there is no CTC loss implementation which actually takes 4 inputs \n",
    "#The loss function in keras accepts only 2 inputs, so create a dummy loss which is a work around for implementing CTC in Keras\n",
    "#The Actual loss computation happens in ctc_loss_function defined above\n",
    "img_text_recog.compile(loss={'ctc': lambda y_true, y_pred: y_pred}, optimizer='adam')"
   ]
  },
  {
   "cell_type": "code",
   "execution_count": null,
   "metadata": {},
   "outputs": [
    {
     "ename": "RuntimeError",
     "evalue": "asdf",
     "output_type": "error",
     "traceback": [
      "\u001b[1;31m---------------------------------------------------------------------------\u001b[0m",
      "\u001b[1;31mRuntimeError\u001b[0m                              Traceback (most recent call last)",
      "Cell \u001b[1;32mIn [83], line 1\u001b[0m\n\u001b[1;32m----> 1\u001b[0m \u001b[39mraise\u001b[39;00m \u001b[39mRuntimeError\u001b[39;00m(\u001b[39m\"\u001b[39m\u001b[39masdf\u001b[39m\u001b[39m\"\u001b[39m)\n",
      "\u001b[1;31mRuntimeError\u001b[0m: asdf"
     ]
    }
   ],
   "source": [
    "raise RuntimeError(\"asdf\")"
   ]
  },
  {
   "cell_type": "markdown",
   "metadata": {},
   "source": [
    "### 12.1.1. Train Model 1"
   ]
  },
  {
   "cell_type": "code",
<<<<<<< HEAD
   "execution_count": 84,
=======
   "execution_count": null,
>>>>>>> 56af5625a19e40097e79f223619887c5d558ceee
   "metadata": {},
   "outputs": [
    {
     "name": "stdout",
     "output_type": "stream",
     "text": [
      "Epoch 1/25\n",
      " 46/114 [===========>..................] - ETA: 17s - loss: 27.6062"
     ]
    },
    {
     "ename": "KeyboardInterrupt",
     "evalue": "",
     "output_type": "error",
     "traceback": [
      "\u001b[1;31m---------------------------------------------------------------------------\u001b[0m",
      "\u001b[1;31mKeyboardInterrupt\u001b[0m                         Traceback (most recent call last)",
      "Cell \u001b[1;32mIn [84], line 1\u001b[0m\n\u001b[1;32m----> 1\u001b[0m img_text_recog\u001b[39m.\u001b[39;49mfit(train_gene\u001b[39m.\u001b[39;49mnext_batch(),\n\u001b[0;32m      2\u001b[0m                     steps_per_epoch\u001b[39m=\u001b[39;49m\u001b[39mint\u001b[39;49m(train_gene\u001b[39m.\u001b[39;49mn \u001b[39m/\u001b[39;49m batch_size),\n\u001b[0;32m      3\u001b[0m                     epochs\u001b[39m=\u001b[39;49m\u001b[39m25\u001b[39;49m,\n\u001b[0;32m      4\u001b[0m                     \u001b[39m#callbacks=[viz_cb_train,train_gene,tensorboard_callback,early_stop,model_chk_pt],\u001b[39;49;00m\n\u001b[0;32m      5\u001b[0m                     \u001b[39m# validation_data=val_gen.next_batch(),\u001b[39;49;00m\n\u001b[0;32m      6\u001b[0m                     \u001b[39m# validation_steps=int(val_gen.n / batch_size)\u001b[39;49;00m\n\u001b[0;32m      7\u001b[0m                     )\n\u001b[0;32m      8\u001b[0m \u001b[39m#callbacks=[viz_cb_train,viz_cb_val,train_gene,val_gen,tensorboard_callback,early_stop,model_chk_pt],\u001b[39;00m\n",
      "File \u001b[1;32mc:\\Users\\xenon\\anaconda3\\envs\\tf\\lib\\site-packages\\keras\\utils\\traceback_utils.py:65\u001b[0m, in \u001b[0;36mfilter_traceback.<locals>.error_handler\u001b[1;34m(*args, **kwargs)\u001b[0m\n\u001b[0;32m     63\u001b[0m filtered_tb \u001b[39m=\u001b[39m \u001b[39mNone\u001b[39;00m\n\u001b[0;32m     64\u001b[0m \u001b[39mtry\u001b[39;00m:\n\u001b[1;32m---> 65\u001b[0m     \u001b[39mreturn\u001b[39;00m fn(\u001b[39m*\u001b[39margs, \u001b[39m*\u001b[39m\u001b[39m*\u001b[39mkwargs)\n\u001b[0;32m     66\u001b[0m \u001b[39mexcept\u001b[39;00m \u001b[39mException\u001b[39;00m \u001b[39mas\u001b[39;00m e:\n\u001b[0;32m     67\u001b[0m     filtered_tb \u001b[39m=\u001b[39m _process_traceback_frames(e\u001b[39m.\u001b[39m__traceback__)\n",
      "File \u001b[1;32mc:\\Users\\xenon\\anaconda3\\envs\\tf\\lib\\site-packages\\keras\\engine\\training.py:1564\u001b[0m, in \u001b[0;36mModel.fit\u001b[1;34m(self, x, y, batch_size, epochs, verbose, callbacks, validation_split, validation_data, shuffle, class_weight, sample_weight, initial_epoch, steps_per_epoch, validation_steps, validation_batch_size, validation_freq, max_queue_size, workers, use_multiprocessing)\u001b[0m\n\u001b[0;32m   1556\u001b[0m \u001b[39mwith\u001b[39;00m tf\u001b[39m.\u001b[39mprofiler\u001b[39m.\u001b[39mexperimental\u001b[39m.\u001b[39mTrace(\n\u001b[0;32m   1557\u001b[0m     \u001b[39m\"\u001b[39m\u001b[39mtrain\u001b[39m\u001b[39m\"\u001b[39m,\n\u001b[0;32m   1558\u001b[0m     epoch_num\u001b[39m=\u001b[39mepoch,\n\u001b[1;32m   (...)\u001b[0m\n\u001b[0;32m   1561\u001b[0m     _r\u001b[39m=\u001b[39m\u001b[39m1\u001b[39m,\n\u001b[0;32m   1562\u001b[0m ):\n\u001b[0;32m   1563\u001b[0m     callbacks\u001b[39m.\u001b[39mon_train_batch_begin(step)\n\u001b[1;32m-> 1564\u001b[0m     tmp_logs \u001b[39m=\u001b[39m \u001b[39mself\u001b[39;49m\u001b[39m.\u001b[39;49mtrain_function(iterator)\n\u001b[0;32m   1565\u001b[0m     \u001b[39mif\u001b[39;00m data_handler\u001b[39m.\u001b[39mshould_sync:\n\u001b[0;32m   1566\u001b[0m         context\u001b[39m.\u001b[39masync_wait()\n",
      "File \u001b[1;32mc:\\Users\\xenon\\anaconda3\\envs\\tf\\lib\\site-packages\\tensorflow\\python\\util\\traceback_utils.py:150\u001b[0m, in \u001b[0;36mfilter_traceback.<locals>.error_handler\u001b[1;34m(*args, **kwargs)\u001b[0m\n\u001b[0;32m    148\u001b[0m filtered_tb \u001b[39m=\u001b[39m \u001b[39mNone\u001b[39;00m\n\u001b[0;32m    149\u001b[0m \u001b[39mtry\u001b[39;00m:\n\u001b[1;32m--> 150\u001b[0m   \u001b[39mreturn\u001b[39;00m fn(\u001b[39m*\u001b[39margs, \u001b[39m*\u001b[39m\u001b[39m*\u001b[39mkwargs)\n\u001b[0;32m    151\u001b[0m \u001b[39mexcept\u001b[39;00m \u001b[39mException\u001b[39;00m \u001b[39mas\u001b[39;00m e:\n\u001b[0;32m    152\u001b[0m   filtered_tb \u001b[39m=\u001b[39m _process_traceback_frames(e\u001b[39m.\u001b[39m__traceback__)\n",
      "File \u001b[1;32mc:\\Users\\xenon\\anaconda3\\envs\\tf\\lib\\site-packages\\tensorflow\\python\\eager\\def_function.py:915\u001b[0m, in \u001b[0;36mFunction.__call__\u001b[1;34m(self, *args, **kwds)\u001b[0m\n\u001b[0;32m    912\u001b[0m compiler \u001b[39m=\u001b[39m \u001b[39m\"\u001b[39m\u001b[39mxla\u001b[39m\u001b[39m\"\u001b[39m \u001b[39mif\u001b[39;00m \u001b[39mself\u001b[39m\u001b[39m.\u001b[39m_jit_compile \u001b[39melse\u001b[39;00m \u001b[39m\"\u001b[39m\u001b[39mnonXla\u001b[39m\u001b[39m\"\u001b[39m\n\u001b[0;32m    914\u001b[0m \u001b[39mwith\u001b[39;00m OptionalXlaContext(\u001b[39mself\u001b[39m\u001b[39m.\u001b[39m_jit_compile):\n\u001b[1;32m--> 915\u001b[0m   result \u001b[39m=\u001b[39m \u001b[39mself\u001b[39m\u001b[39m.\u001b[39m_call(\u001b[39m*\u001b[39margs, \u001b[39m*\u001b[39m\u001b[39m*\u001b[39mkwds)\n\u001b[0;32m    917\u001b[0m new_tracing_count \u001b[39m=\u001b[39m \u001b[39mself\u001b[39m\u001b[39m.\u001b[39mexperimental_get_tracing_count()\n\u001b[0;32m    918\u001b[0m without_tracing \u001b[39m=\u001b[39m (tracing_count \u001b[39m==\u001b[39m new_tracing_count)\n",
      "File \u001b[1;32mc:\\Users\\xenon\\anaconda3\\envs\\tf\\lib\\site-packages\\tensorflow\\python\\eager\\def_function.py:947\u001b[0m, in \u001b[0;36mFunction._call\u001b[1;34m(self, *args, **kwds)\u001b[0m\n\u001b[0;32m    944\u001b[0m   \u001b[39mself\u001b[39m\u001b[39m.\u001b[39m_lock\u001b[39m.\u001b[39mrelease()\n\u001b[0;32m    945\u001b[0m   \u001b[39m# In this case we have created variables on the first call, so we run the\u001b[39;00m\n\u001b[0;32m    946\u001b[0m   \u001b[39m# defunned version which is guaranteed to never create variables.\u001b[39;00m\n\u001b[1;32m--> 947\u001b[0m   \u001b[39mreturn\u001b[39;00m \u001b[39mself\u001b[39m\u001b[39m.\u001b[39m_stateless_fn(\u001b[39m*\u001b[39margs, \u001b[39m*\u001b[39m\u001b[39m*\u001b[39mkwds)  \u001b[39m# pylint: disable=not-callable\u001b[39;00m\n\u001b[0;32m    948\u001b[0m \u001b[39melif\u001b[39;00m \u001b[39mself\u001b[39m\u001b[39m.\u001b[39m_stateful_fn \u001b[39mis\u001b[39;00m \u001b[39mnot\u001b[39;00m \u001b[39mNone\u001b[39;00m:\n\u001b[0;32m    949\u001b[0m   \u001b[39m# Release the lock early so that multiple threads can perform the call\u001b[39;00m\n\u001b[0;32m    950\u001b[0m   \u001b[39m# in parallel.\u001b[39;00m\n\u001b[0;32m    951\u001b[0m   \u001b[39mself\u001b[39m\u001b[39m.\u001b[39m_lock\u001b[39m.\u001b[39mrelease()\n",
      "File \u001b[1;32mc:\\Users\\xenon\\anaconda3\\envs\\tf\\lib\\site-packages\\tensorflow\\python\\eager\\function.py:2496\u001b[0m, in \u001b[0;36mFunction.__call__\u001b[1;34m(self, *args, **kwargs)\u001b[0m\n\u001b[0;32m   2493\u001b[0m \u001b[39mwith\u001b[39;00m \u001b[39mself\u001b[39m\u001b[39m.\u001b[39m_lock:\n\u001b[0;32m   2494\u001b[0m   (graph_function,\n\u001b[0;32m   2495\u001b[0m    filtered_flat_args) \u001b[39m=\u001b[39m \u001b[39mself\u001b[39m\u001b[39m.\u001b[39m_maybe_define_function(args, kwargs)\n\u001b[1;32m-> 2496\u001b[0m \u001b[39mreturn\u001b[39;00m graph_function\u001b[39m.\u001b[39;49m_call_flat(\n\u001b[0;32m   2497\u001b[0m     filtered_flat_args, captured_inputs\u001b[39m=\u001b[39;49mgraph_function\u001b[39m.\u001b[39;49mcaptured_inputs)\n",
      "File \u001b[1;32mc:\\Users\\xenon\\anaconda3\\envs\\tf\\lib\\site-packages\\tensorflow\\python\\eager\\function.py:1862\u001b[0m, in \u001b[0;36mConcreteFunction._call_flat\u001b[1;34m(self, args, captured_inputs, cancellation_manager)\u001b[0m\n\u001b[0;32m   1858\u001b[0m possible_gradient_type \u001b[39m=\u001b[39m gradients_util\u001b[39m.\u001b[39mPossibleTapeGradientTypes(args)\n\u001b[0;32m   1859\u001b[0m \u001b[39mif\u001b[39;00m (possible_gradient_type \u001b[39m==\u001b[39m gradients_util\u001b[39m.\u001b[39mPOSSIBLE_GRADIENT_TYPES_NONE\n\u001b[0;32m   1860\u001b[0m     \u001b[39mand\u001b[39;00m executing_eagerly):\n\u001b[0;32m   1861\u001b[0m   \u001b[39m# No tape is watching; skip to running the function.\u001b[39;00m\n\u001b[1;32m-> 1862\u001b[0m   \u001b[39mreturn\u001b[39;00m \u001b[39mself\u001b[39m\u001b[39m.\u001b[39m_build_call_outputs(\u001b[39mself\u001b[39;49m\u001b[39m.\u001b[39;49m_inference_function\u001b[39m.\u001b[39;49mcall(\n\u001b[0;32m   1863\u001b[0m       ctx, args, cancellation_manager\u001b[39m=\u001b[39;49mcancellation_manager))\n\u001b[0;32m   1864\u001b[0m forward_backward \u001b[39m=\u001b[39m \u001b[39mself\u001b[39m\u001b[39m.\u001b[39m_select_forward_and_backward_functions(\n\u001b[0;32m   1865\u001b[0m     args,\n\u001b[0;32m   1866\u001b[0m     possible_gradient_type,\n\u001b[0;32m   1867\u001b[0m     executing_eagerly)\n\u001b[0;32m   1868\u001b[0m forward_function, args_with_tangents \u001b[39m=\u001b[39m forward_backward\u001b[39m.\u001b[39mforward()\n",
      "File \u001b[1;32mc:\\Users\\xenon\\anaconda3\\envs\\tf\\lib\\site-packages\\tensorflow\\python\\eager\\function.py:499\u001b[0m, in \u001b[0;36m_EagerDefinedFunction.call\u001b[1;34m(self, ctx, args, cancellation_manager)\u001b[0m\n\u001b[0;32m    497\u001b[0m \u001b[39mwith\u001b[39;00m _InterpolateFunctionError(\u001b[39mself\u001b[39m):\n\u001b[0;32m    498\u001b[0m   \u001b[39mif\u001b[39;00m cancellation_manager \u001b[39mis\u001b[39;00m \u001b[39mNone\u001b[39;00m:\n\u001b[1;32m--> 499\u001b[0m     outputs \u001b[39m=\u001b[39m execute\u001b[39m.\u001b[39;49mexecute(\n\u001b[0;32m    500\u001b[0m         \u001b[39mstr\u001b[39;49m(\u001b[39mself\u001b[39;49m\u001b[39m.\u001b[39;49msignature\u001b[39m.\u001b[39;49mname),\n\u001b[0;32m    501\u001b[0m         num_outputs\u001b[39m=\u001b[39;49m\u001b[39mself\u001b[39;49m\u001b[39m.\u001b[39;49m_num_outputs,\n\u001b[0;32m    502\u001b[0m         inputs\u001b[39m=\u001b[39;49margs,\n\u001b[0;32m    503\u001b[0m         attrs\u001b[39m=\u001b[39;49mattrs,\n\u001b[0;32m    504\u001b[0m         ctx\u001b[39m=\u001b[39;49mctx)\n\u001b[0;32m    505\u001b[0m   \u001b[39melse\u001b[39;00m:\n\u001b[0;32m    506\u001b[0m     outputs \u001b[39m=\u001b[39m execute\u001b[39m.\u001b[39mexecute_with_cancellation(\n\u001b[0;32m    507\u001b[0m         \u001b[39mstr\u001b[39m(\u001b[39mself\u001b[39m\u001b[39m.\u001b[39msignature\u001b[39m.\u001b[39mname),\n\u001b[0;32m    508\u001b[0m         num_outputs\u001b[39m=\u001b[39m\u001b[39mself\u001b[39m\u001b[39m.\u001b[39m_num_outputs,\n\u001b[1;32m   (...)\u001b[0m\n\u001b[0;32m    511\u001b[0m         ctx\u001b[39m=\u001b[39mctx,\n\u001b[0;32m    512\u001b[0m         cancellation_manager\u001b[39m=\u001b[39mcancellation_manager)\n",
      "File \u001b[1;32mc:\\Users\\xenon\\anaconda3\\envs\\tf\\lib\\site-packages\\tensorflow\\python\\eager\\execute.py:54\u001b[0m, in \u001b[0;36mquick_execute\u001b[1;34m(op_name, num_outputs, inputs, attrs, ctx, name)\u001b[0m\n\u001b[0;32m     52\u001b[0m \u001b[39mtry\u001b[39;00m:\n\u001b[0;32m     53\u001b[0m   ctx\u001b[39m.\u001b[39mensure_initialized()\n\u001b[1;32m---> 54\u001b[0m   tensors \u001b[39m=\u001b[39m pywrap_tfe\u001b[39m.\u001b[39;49mTFE_Py_Execute(ctx\u001b[39m.\u001b[39;49m_handle, device_name, op_name,\n\u001b[0;32m     55\u001b[0m                                       inputs, attrs, num_outputs)\n\u001b[0;32m     56\u001b[0m \u001b[39mexcept\u001b[39;00m core\u001b[39m.\u001b[39m_NotOkStatusException \u001b[39mas\u001b[39;00m e:\n\u001b[0;32m     57\u001b[0m   \u001b[39mif\u001b[39;00m name \u001b[39mis\u001b[39;00m \u001b[39mnot\u001b[39;00m \u001b[39mNone\u001b[39;00m:\n",
      "\u001b[1;31mKeyboardInterrupt\u001b[0m: "
     ]
    }
   ],
   "source": [
    "img_text_recog.fit(train_gene.next_batch(),\n",
    "                    steps_per_epoch=int(train_gene.n / batch_size),\n",
    "                    epochs=25,\n",
    "                    #callbacks=[viz_cb_train,train_gene,tensorboard_callback,early_stop,model_chk_pt],\n",
    "                    # validation_data=val_gen.next_batch(),\n",
    "                    # validation_steps=int(val_gen.n / batch_size)\n",
    "                    )\n",
    "#callbacks=[viz_cb_train,viz_cb_val,train_gene,val_gen,tensorboard_callback,early_stop,model_chk_pt],"
   ]
  },
  {
   "cell_type": "code",
   "execution_count": null,
   "metadata": {},
   "outputs": [
    {
     "ename": "RuntimeError",
     "evalue": "asdf",
     "output_type": "error",
     "traceback": [
      "\u001b[1;31m---------------------------------------------------------------------------\u001b[0m",
      "\u001b[1;31mRuntimeError\u001b[0m                              Traceback (most recent call last)",
      "Cell \u001b[1;32mIn [350], line 1\u001b[0m\n\u001b[1;32m----> 1\u001b[0m \u001b[39mraise\u001b[39;00m \u001b[39mRuntimeError\u001b[39;00m(\u001b[39m\"\u001b[39m\u001b[39masdf\u001b[39m\u001b[39m\"\u001b[39m)\n",
      "\u001b[1;31mRuntimeError\u001b[0m: asdf"
     ]
    }
   ],
   "source": [
    "raise RuntimeError(\"asdf\")"
   ]
  },
  {
   "cell_type": "code",
   "execution_count": null,
   "metadata": {},
   "outputs": [],
   "source": [
    "img_text_recog.save_weights('Best_Img_recog_LSTM_Adam_model_run_weights.h5')"
   ]
  },
  {
   "cell_type": "code",
   "execution_count": 85,
   "metadata": {},
   "outputs": [],
   "source": [
    "img_text_recog.load_weights('Best_Img_recog_LSTM_Adam_model_run_weights.h5')"
   ]
  },
  {
   "cell_type": "markdown",
   "metadata": {},
   "source": [
    "**Train CTC Loss Plot**"
   ]
  },
  {
   "cell_type": "markdown",
   "metadata": {},
   "source": [
    "**Validation CTC Loss Plot**"
   ]
  },
  {
   "cell_type": "markdown",
   "metadata": {},
   "source": [
    "## 13. Model Output Predictions"
   ]
  },
  {
   "cell_type": "code",
   "execution_count": 86,
   "metadata": {},
   "outputs": [],
   "source": [
    "import itertools"
   ]
  },
  {
   "cell_type": "markdown",
   "metadata": {},
   "source": [
    "### 13.1. Best Path Decoding "
   ]
  },
  {
   "cell_type": "markdown",
   "metadata": {},
   "source": [
    "The Function Takes the final 40x37 output matrix from the model, and takes the argmax of the matrix across each column (which returns a value between 0 to 36 (ctc_blank) both included). The outputs are then merged for repeated values and gives a list of integers. The Final output integers is then converted to final output string text and it is returned by the function"
   ]
  },
  {
   "cell_type": "code",
   "execution_count": 87,
   "metadata": {},
   "outputs": [],
   "source": [
    "#https://keras.io/examples/image_ocr/\n",
    "#https://github.com/qjadud1994/CRNN-Keras\n",
    "def decode_label(out):\n",
    "    \"\"\"\n",
    "    Takes the predicted ouput matrix from the Model and returns the output text for the image\n",
    "    \"\"\"\n",
    "    # out : (1, 42, 37)\n",
    "    # discarding first 2 outputs of RNN as they tend to be garbage \n",
    "    out_best = list(np.argmax(out[0,2:], axis=1))\n",
    "\n",
    "    out_best = [k for k, g in itertools.groupby(out_best)]  # remove overlap value\n",
    "\n",
    "    outstr=words_from_labels(out_best)\n",
    "    return outstr"
   ]
  },
  {
   "cell_type": "markdown",
   "metadata": {},
   "source": [
    "### 13.2. Test Output Prediction Function"
   ]
  },
  {
   "cell_type": "markdown",
   "metadata": {},
   "source": [
    "The Function Takes in Following Inputs:\n",
    "1. **model:** The Best Model obtained after training\n",
    "2. **test_img_names:** The Image folder path where the input image is located\n",
    "3. **test_labels:** The Ground Truth Text Labels of Corresponding input Images\n",
    "\n",
    "<p> The function reads the images in the folder path and  resizes it to 32x100 dimension,single channel gray scale image.The processed image is passed to to best model which predicts the output which is a 1x48x37 matrix. The output Matrix is passed to CTC Best path decoding function which returns the predicted text word. The function then compares this predicted word text with the expected Ground truth Label and calculates Accuracy and Letter-Accuracy across the entire test data and returns accuracy, letter accuracy, letter count and letter mis match count.</p>"
   ]
  },
  {
   "cell_type": "code",
   "execution_count": 88,
   "metadata": {},
   "outputs": [],
   "source": [
    "def test_data_output_Prediction(model,test_img_names,test_labels):\n",
    "    \"\"\"\n",
    "    Takes the best model, test data image paths, test data groud truth labels and pre-processes the input image to \n",
    "    appropriate format for the model prediction, takes the predicted output matrix and uses best path decoding to \n",
    "    generate predicted text and compares with ground truth text for the input and ouputs the final accuracy,\n",
    "    letter accuracy and  letter count across the entire test set of images, it also returns list of letter mis-match\n",
    "    count for each test point in the whole test set of images\n",
    "    \"\"\"\n",
    "    start=datetime.now()\n",
    "    accuracy=0\n",
    "    letter_acc=0\n",
    "    letter_cnt=0\n",
    "    count=0\n",
    "    letter_mis_match=[]\n",
    "    for i in range(len(test_labels)):\n",
    "        test_img=cv2.imread(test_img_names[i])\n",
    "        test_img_resized=cv2.resize(test_img,(170,32))\n",
    "        test_image=test_img_resized[:,:,1]\n",
    "        test_image=test_image.T\n",
    "        test_image=np.expand_dims(test_image,axis=-1)\n",
    "        test_image=np.expand_dims(test_image, axis=0)\n",
    "        test_image=test_image/255\n",
    "        model_output=model.predict(test_image)\n",
    "        predicted_output=decode_label(model_output)\n",
    "        actual_output=test_labels[i]\n",
    "        count+=1\n",
    "        mis_match=0\n",
    "        for j in range(min(len(predicted_output),len(actual_output))):\n",
    "            if predicted_output[j]==actual_output[j]:\n",
    "                letter_acc+=1\n",
    "            else:\n",
    "                mis_match+=1\n",
    "        letter_cnt+=max(len(predicted_output),len(actual_output))\n",
    "        letter_mis_match.append(mis_match)\n",
    "        if actual_output==predicted_output:\n",
    "            accuracy+=1\n",
    "        if (count%1000)==0:\n",
    "            print(\"Processed \",count,\" Images\")\n",
    "    print(\"Time Taken for Processing: \",datetime.now()-start)\n",
    "    return accuracy,letter_acc,letter_cnt,letter_mis_match"
   ]
  },
  {
   "cell_type": "markdown",
   "metadata": {},
   "source": [
    "### 13.3. Model 1 Predictions"
   ]
  },
  {
   "cell_type": "markdown",
   "metadata": {},
   "source": [
    "For Output Prediction, load the model achitecture  defined above for Predict stage which takes in the image as input and outputs a 48x37 matrix as ouput for each input image"
   ]
  },
  {
   "cell_type": "code",
   "execution_count": 89,
   "metadata": {},
   "outputs": [],
   "source": [
    "model=Image_text_recogniser_model_1('predict')"
   ]
  },
  {
   "cell_type": "markdown",
   "metadata": {},
   "source": [
    "The Best Weights for the Model are stored in BestLSTMModelWeights Folder, loading the stored best weights for Model 1 for prediction"
   ]
  },
  {
   "cell_type": "code",
   "execution_count": 90,
   "metadata": {},
   "outputs": [],
   "source": [
    "model.load_weights('Best_Img_recog_LSTM_Adam_model_run_weights.h5')"
   ]
  },
  {
   "cell_type": "markdown",
   "metadata": {},
   "source": [
    "**Synth Text Validation Data Prediction**"
   ]
  },
  {
   "cell_type": "code",
   "execution_count": 91,
   "metadata": {},
   "outputs": [],
   "source": [
    "from datetime import datetime"
   ]
  },
  {
   "cell_type": "code",
   "execution_count": 92,
   "metadata": {},
   "outputs": [],
   "source": [
    "val_img_names=train_data['ImageName'][:100].values\n",
    "val_labels=train_data['Labels'][:100].values"
   ]
  },
  {
   "cell_type": "code",
   "execution_count": 93,
   "metadata": {},
   "outputs": [
    {
     "name": "stdout",
     "output_type": "stream",
     "text": [
      "1/1 [==============================] - 3s 3s/step\n",
      "1/1 [==============================] - 0s 48ms/step\n",
      "1/1 [==============================] - 0s 37ms/step\n",
      "1/1 [==============================] - 0s 40ms/step\n",
      "1/1 [==============================] - 0s 38ms/step\n",
      "1/1 [==============================] - 0s 34ms/step\n",
      "1/1 [==============================] - 0s 42ms/step\n",
      "1/1 [==============================] - 0s 32ms/step\n",
      "1/1 [==============================] - 0s 32ms/step\n",
      "1/1 [==============================] - 0s 32ms/step\n",
      "1/1 [==============================] - 0s 35ms/step\n",
      "1/1 [==============================] - 0s 35ms/step\n",
      "1/1 [==============================] - 0s 37ms/step\n",
      "1/1 [==============================] - 0s 35ms/step\n",
      "1/1 [==============================] - 0s 38ms/step\n",
      "1/1 [==============================] - 0s 31ms/step\n",
      "1/1 [==============================] - 0s 36ms/step\n",
      "1/1 [==============================] - 0s 35ms/step\n",
      "1/1 [==============================] - 0s 33ms/step\n",
      "1/1 [==============================] - 0s 36ms/step\n",
      "1/1 [==============================] - 0s 33ms/step\n",
      "1/1 [==============================] - 0s 36ms/step\n",
      "1/1 [==============================] - 0s 34ms/step\n",
      "1/1 [==============================] - 0s 34ms/step\n",
      "1/1 [==============================] - 0s 31ms/step\n",
      "1/1 [==============================] - 0s 36ms/step\n",
      "1/1 [==============================] - 0s 35ms/step\n",
      "1/1 [==============================] - 0s 34ms/step\n",
      "1/1 [==============================] - 0s 35ms/step\n",
      "1/1 [==============================] - 0s 36ms/step\n",
      "1/1 [==============================] - 0s 35ms/step\n",
      "1/1 [==============================] - 0s 32ms/step\n",
      "1/1 [==============================] - 0s 35ms/step\n",
      "1/1 [==============================] - 0s 36ms/step\n",
      "1/1 [==============================] - 0s 36ms/step\n",
      "1/1 [==============================] - 0s 35ms/step\n",
      "1/1 [==============================] - 0s 34ms/step\n",
      "1/1 [==============================] - 0s 35ms/step\n",
      "1/1 [==============================] - 0s 36ms/step\n",
      "1/1 [==============================] - 0s 34ms/step\n",
      "1/1 [==============================] - 0s 34ms/step\n",
      "1/1 [==============================] - 0s 35ms/step\n",
      "1/1 [==============================] - 0s 38ms/step\n",
      "1/1 [==============================] - 0s 100ms/step\n",
      "1/1 [==============================] - 0s 39ms/step\n",
      "1/1 [==============================] - 0s 37ms/step\n",
      "1/1 [==============================] - 0s 45ms/step\n",
      "1/1 [==============================] - 0s 37ms/step\n",
      "1/1 [==============================] - 0s 36ms/step\n",
      "1/1 [==============================] - 0s 36ms/step\n",
      "1/1 [==============================] - 0s 35ms/step\n",
      "1/1 [==============================] - 0s 35ms/step\n",
      "1/1 [==============================] - 0s 36ms/step\n",
      "1/1 [==============================] - 0s 35ms/step\n",
      "1/1 [==============================] - 0s 34ms/step\n",
      "1/1 [==============================] - 0s 34ms/step\n",
      "1/1 [==============================] - 0s 33ms/step\n",
      "1/1 [==============================] - 0s 35ms/step\n",
      "1/1 [==============================] - 0s 35ms/step\n",
      "1/1 [==============================] - 0s 34ms/step\n",
      "1/1 [==============================] - 0s 33ms/step\n",
      "1/1 [==============================] - 0s 34ms/step\n",
      "1/1 [==============================] - 0s 34ms/step\n",
      "1/1 [==============================] - 0s 34ms/step\n",
      "1/1 [==============================] - 0s 34ms/step\n",
      "1/1 [==============================] - 0s 34ms/step\n",
      "1/1 [==============================] - 0s 34ms/step\n",
      "1/1 [==============================] - 0s 35ms/step\n",
      "1/1 [==============================] - 0s 34ms/step\n",
      "1/1 [==============================] - 0s 34ms/step\n",
      "1/1 [==============================] - 0s 33ms/step\n",
      "1/1 [==============================] - 0s 33ms/step\n",
      "1/1 [==============================] - 0s 34ms/step\n",
      "1/1 [==============================] - 0s 33ms/step\n",
      "1/1 [==============================] - 0s 33ms/step\n",
      "1/1 [==============================] - 0s 39ms/step\n",
      "1/1 [==============================] - 0s 38ms/step\n",
      "1/1 [==============================] - 0s 37ms/step\n",
      "1/1 [==============================] - 0s 34ms/step\n",
      "1/1 [==============================] - 0s 33ms/step\n",
      "1/1 [==============================] - 0s 33ms/step\n",
      "1/1 [==============================] - 0s 38ms/step\n",
      "1/1 [==============================] - 0s 35ms/step\n",
      "1/1 [==============================] - 0s 33ms/step\n",
      "1/1 [==============================] - 0s 33ms/step\n",
      "1/1 [==============================] - 0s 35ms/step\n",
      "1/1 [==============================] - 0s 33ms/step\n",
      "1/1 [==============================] - 0s 33ms/step\n",
      "1/1 [==============================] - 0s 35ms/step\n",
      "1/1 [==============================] - 0s 34ms/step\n",
      "1/1 [==============================] - 0s 33ms/step\n",
      "1/1 [==============================] - 0s 34ms/step\n",
      "1/1 [==============================] - 0s 37ms/step\n",
      "1/1 [==============================] - 0s 34ms/step\n",
      "1/1 [==============================] - 0s 35ms/step\n",
      "1/1 [==============================] - 0s 36ms/step\n",
      "1/1 [==============================] - 0s 37ms/step\n",
      "1/1 [==============================] - 0s 37ms/step\n",
      "1/1 [==============================] - 0s 35ms/step\n",
      "1/1 [==============================] - 0s 34ms/step\n",
      "Time Taken for Processing:  0:00:09.689210\n"
     ]
    }
   ],
   "source": [
    "synth_val_accuracy,synth_val_letter_acc,synth_val_letter_cnt,synth_val_mis_match=test_data_output_Prediction(model,val_img_names,val_labels)"
   ]
  },
  {
   "cell_type": "code",
   "execution_count": 94,
   "metadata": {},
   "outputs": [
    {
     "name": "stdout",
     "output_type": "stream",
     "text": [
      "Model Output Accuracy:  83.0  %\n",
      "Model Output Letter Accuracy:  81.59609120521174  %\n"
     ]
    }
   ],
   "source": [
    "print(\"Model Output Accuracy: \",(synth_val_accuracy/len(val_labels))*100, \" %\")\n",
    "print(\"Model Output Letter Accuracy: \",(synth_val_letter_acc/synth_val_letter_cnt)*100, \" %\")"
   ]
  },
  {
   "cell_type": "code",
   "execution_count": 120,
   "metadata": {},
   "outputs": [],
   "source": [
    "def words_from_labels(labels):\n",
    "    \"\"\"\n",
    "    converts the list of encoded integer labels to word strings like eg. [12,10,29] returns CAT \n",
    "    \"\"\"\n",
    "    letters= 'য়ণঋকঞঈী ষগেহঠনূঝোখশযথ্ঁডভধমঅওিংদউৃঙঔৎফঢটুইঃছচঐআঊএবসঘলাপতজর়'\n",
    "    txt=[]\n",
    "    for ele in labels:\n",
    "        if ele == len(letters): # CTC blank space\n",
    "            txt.append(\"\")\n",
    "        else:\n",
    "            #print(letters[ele])\n",
    "            txt.append(letters[ele])\n",
    "    return \"\".join(txt)\n",
    "\n",
    "def decode_label(out):\n",
    "    \"\"\"\n",
    "    Takes the predicted ouput matrix from the Model and returns the output text for the image\n",
    "    \"\"\"\n",
    "    # out : (1, 48, 37)\n",
    "    out_best = list(np.argmax(out[0,2:], axis=1))\n",
    "\n",
    "    out_best = [k for k, g in itertools.groupby(out_best)]  # remove overlap value\n",
    "\n",
    "    outstr=words_from_labels(out_best)\n",
    "    return outstr\n",
    "\n",
    "def decode_label(out):\n",
    "    \"\"\"\n",
    "    Takes the predicted ouput matrix from the Model and returns the output text for the image\n",
    "    \"\"\"\n",
    "    # out : (1, 48, 37)\n",
    "    out_best = list(np.argmax(out[0,2:], axis=1))\n",
    "\n",
    "    out_best = [k for k, g in itertools.groupby(out_best)]  # remove overlap value\n",
    "\n",
    "    outstr=words_from_labels(out_best)\n",
    "    return outstr\n",
    "\n",
    "def test_data_single_image_Prediction(test_img_path):\n",
    "    \"\"\"\n",
    "    Takes the best model, test data image paths, test data groud truth labels and pre-processes the input image to \n",
    "    appropriate format for the model prediction, takes the predicted output matrix and uses best path decoding to \n",
    "    generate predicted text and prints the Predicted Text Label, Time Taken for Computation\n",
    "    \"\"\"\n",
    "    \n",
    "    test_img=cv2.imread(test_img_path)\n",
    "    test_img_resized=cv2.resize(test_img,(170,32))\n",
    "    test_image=test_img_resized[:,:,1]\n",
    "    test_image=test_image.T \n",
    "    test_image=np.expand_dims(test_image,axis=-1)\n",
    "    test_image=np.expand_dims(test_image, axis=0)\n",
    "    test_image=test_image/255\n",
    "    global sess\n",
    "    global graph\n",
    "    \n",
    "    model_output=model.predict(test_image)\n",
    "    print(model_output)\n",
    "    return model_output\n"
   ]
  },
  {
   "cell_type": "code",
   "execution_count": 121,
   "metadata": {},
   "outputs": [
    {
     "name": "stdout",
     "output_type": "stream",
     "text": [
      "1/1 [==============================] - 0s 33ms/step\n",
      "[[[1.9406759e-08 4.7713407e-09 7.7968700e-08 ... 3.2063801e-07\n",
      "   4.0167583e-10 9.9998116e-01]\n",
      "  [4.7592552e-09 4.8063881e-10 8.8730268e-09 ... 3.4141642e-08\n",
      "   4.1452612e-11 9.9999714e-01]\n",
      "  [2.3968172e-09 1.7484150e-10 2.6053406e-09 ... 1.1627744e-08\n",
      "   1.4965907e-11 9.9999893e-01]\n",
      "  ...\n",
      "  [1.2862706e-07 6.0044613e-06 4.3065464e-07 ... 1.3013647e-02\n",
      "   2.8878314e-05 2.0250850e-06]\n",
      "  [1.7058213e-08 6.8957178e-07 1.3929121e-08 ... 1.0486215e-03\n",
      "   2.1277580e-07 1.4105557e-07]\n",
      "  [2.5782866e-08 7.2035102e-05 1.2103931e-08 ... 9.9800581e-01\n",
      "   4.1932399e-05 1.6426978e-07]]]\n",
      "সন্ধ্যার\n"
     ]
    }
   ],
   "source": [
    "preds=test_data_single_image_Prediction('words/100/MdBasimAlJabirShammo210628_10.png')\n",
    "print(decode_label(preds))"
   ]
  },
  {
   "cell_type": "code",
   "execution_count": 122,
   "metadata": {},
   "outputs": [],
   "source": [
    "from collections import Counter"
   ]
  },
  {
   "cell_type": "code",
   "execution_count": 123,
   "metadata": {},
   "outputs": [],
   "source": [
    "model_1_val_mis_match_dict=Counter(synth_val_mis_match)"
   ]
  },
  {
   "cell_type": "markdown",
   "metadata": {},
   "source": [
    "**Model 1 Validation Data Prediction Analysis upto 4 Character Mis-Matches**"
   ]
  },
  {
   "cell_type": "code",
   "execution_count": 124,
   "metadata": {},
   "outputs": [],
   "source": [
    "mis_match_cnts_1=[]\n",
    "for i in range(5):\n",
    "    mis_match_cnts_1.append(model_1_val_mis_match_dict[i])"
   ]
  },
  {
   "cell_type": "code",
   "execution_count": 125,
   "metadata": {},
   "outputs": [],
   "source": [
    "def mis_match_character_analysis_plot(mis_match_counts,num_values):\n",
    "    \"\"\"\n",
    "    Takes mis-match counts upto 4 characters of the predicted output, total number of values and\n",
    "    plots the percentage of number of mis-match characters between predicted and actual labels\n",
    "    \"\"\"\n",
    "    plt.figure(figsize=(10,6))\n",
    "    indices=np.arange(len(mis_match_counts))\n",
    "    counts=np.array(mis_match_counts)\n",
    "    percent=(counts/num_values)*100\n",
    "    plt.bar(indices,percent)\n",
    "    plt.xlabel('Number of Mis-Match Characters',fontsize=10)\n",
    "    plt.ylabel('Percentages',fontsize=10)\n",
    "    plt.title('Percentages of Number of Mis-Match Characters',fontsize=12)\n",
    "    plt.xticks(indices,indices)\n",
    "    plt.show()\n",
    "    for i in range(len(indices)):\n",
    "        print(i,\" Mis-Match Characters Percentage: \",np.round(percent[i],2),\" %\")"
   ]
  },
  {
   "cell_type": "code",
   "execution_count": 126,
   "metadata": {},
   "outputs": [
    {
     "data": {
      "image/png": "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",
      "text/plain": [
       "<Figure size 1000x600 with 1 Axes>"
      ]
     },
     "metadata": {},
     "output_type": "display_data"
    },
    {
     "name": "stdout",
     "output_type": "stream",
     "text": [
      "0  Mis-Match Characters Percentage:  0.69  %\n",
      "1  Mis-Match Characters Percentage:  0.01  %\n",
      "2  Mis-Match Characters Percentage:  0.02  %\n",
      "3  Mis-Match Characters Percentage:  0.01  %\n",
      "4  Mis-Match Characters Percentage:  0.0  %\n",
      "2.10.0\n",
      "2.10.0\n"
     ]
    }
   ],
   "source": [
    "mis_match_character_analysis_plot(mis_match_cnts_1,12000)\n",
    "print(tf. __version__)\n",
    "print(keras.__version__)"
   ]
  },
  {
   "cell_type": "markdown",
   "metadata": {},
   "source": [
    "**Synth Text Test Data**"
   ]
  },
  {
   "cell_type": "code",
   "execution_count": 128,
   "metadata": {},
   "outputs": [
    {
     "ename": "NameError",
     "evalue": "name 'test_data' is not defined",
     "output_type": "error",
     "traceback": [
      "\u001b[1;31m---------------------------------------------------------------------------\u001b[0m",
      "\u001b[1;31mNameError\u001b[0m                                 Traceback (most recent call last)",
      "Cell \u001b[1;32mIn [128], line 1\u001b[0m\n\u001b[1;32m----> 1\u001b[0m test_img_names\u001b[39m=\u001b[39mtest_data[\u001b[39m'\u001b[39m\u001b[39mImageName\u001b[39m\u001b[39m'\u001b[39m]\u001b[39m.\u001b[39mvalues\n\u001b[0;32m      2\u001b[0m test_labels\u001b[39m=\u001b[39mtest_data[\u001b[39m'\u001b[39m\u001b[39mLabels\u001b[39m\u001b[39m'\u001b[39m]\u001b[39m.\u001b[39mvalues\n",
      "\u001b[1;31mNameError\u001b[0m: name 'test_data' is not defined"
     ]
    }
   ],
   "source": [
    "test_img_names=test_data['ImageName'].values\n",
    "test_labels=test_data['Labels'].values"
   ]
  },
  {
   "cell_type": "code",
   "execution_count": null,
   "metadata": {},
   "outputs": [
    {
     "name": "stdout",
     "output_type": "stream",
     "text": [
      "Processed  1000  Images\n",
      "Processed  2000  Images\n",
      "Processed  3000  Images\n",
      "Processed  4000  Images\n",
      "Processed  5000  Images\n",
      "Processed  6000  Images\n",
      "Processed  7000  Images\n",
      "Processed  8000  Images\n",
      "Processed  9000  Images\n",
      "Processed  10000  Images\n",
      "Processed  11000  Images\n",
      "Processed  12000  Images\n",
      "Processed  13000  Images\n",
      "Processed  14000  Images\n",
      "Processed  15000  Images\n",
      "Time Taken for Processing:  0:21:50.478253\n"
     ]
    }
   ],
   "source": [
    "synth_test_accuracy,synth_test_letter_acc,synth_test_letter_cnt,synth_test_mis_match=test_data_output_Prediction(model,test_img_names,test_labels)"
   ]
  },
  {
   "cell_type": "code",
   "execution_count": null,
   "metadata": {},
   "outputs": [
    {
     "name": "stdout",
     "output_type": "stream",
     "text": [
      "Model Output Accuracy:  87.08666666666667  %\n",
      "Model Output Letter Accuracy:  94.48166697375254  %\n"
     ]
    }
   ],
   "source": [
    "print(\"Model Output Accuracy: \",(synth_test_accuracy/len(test_labels))*100, \" %\")\n",
    "print(\"Model Output Letter Accuracy: \",(synth_test_letter_acc/synth_test_letter_cnt)*100, \" %\")"
   ]
  },
  {
   "cell_type": "code",
   "execution_count": null,
   "metadata": {},
   "outputs": [],
   "source": [
    "model_1_test_mis_match_dict=Counter(synth_test_mis_match)"
   ]
  },
  {
   "cell_type": "markdown",
   "metadata": {},
   "source": [
    "**Model 1 Test Data Prediction Analysis upto 4 Character Mis-Matches**"
   ]
  },
  {
   "cell_type": "code",
   "execution_count": null,
   "metadata": {},
   "outputs": [],
   "source": [
    "mis_match_cnts_2=[]\n",
    "for i in range(5):\n",
    "    mis_match_cnts_2.append(model_1_test_mis_match_dict[i])"
   ]
  },
  {
   "cell_type": "code",
   "execution_count": null,
   "metadata": {},
   "outputs": [
    {
     "data": {
      "image/png": "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",
      "text/plain": [
       "<Figure size 720x432 with 1 Axes>"
      ]
     },
     "metadata": {
      "needs_background": "light"
     },
     "output_type": "display_data"
    },
    {
     "name": "stdout",
     "output_type": "stream",
     "text": [
      "0  Mis-Match Characters Percentage:  87.19  %\n",
      "1  Mis-Match Characters Percentage:  5.85  %\n",
      "2  Mis-Match Characters Percentage:  2.1  %\n",
      "3  Mis-Match Characters Percentage:  1.17  %\n",
      "4  Mis-Match Characters Percentage:  0.91  %\n"
     ]
    }
   ],
   "source": [
    "mis_match_character_analysis_plot(mis_match_cnts_2,15000)"
   ]
  },
  {
   "cell_type": "markdown",
   "metadata": {},
   "source": [
    "### 13.4. Model 2 Predictions"
   ]
  },
  {
   "cell_type": "markdown",
   "metadata": {},
   "source": [
    "For Output Prediction, load the model achitecture  defined above for Predict stage which takes in the image as input and outputs a 48x37 matrix as ouput for each input image"
   ]
  },
  {
   "cell_type": "code",
   "execution_count": null,
   "metadata": {},
   "outputs": [],
   "source": [
    "model_2=Image_text_recogniser_model_2('predict')"
   ]
  },
  {
   "cell_type": "markdown",
   "metadata": {},
   "source": [
    "The Best Weights for the Model are stored in BestGRUModelWeights Folder, loading the stored best weights for Model 2 for prediction"
   ]
  },
  {
   "cell_type": "code",
   "execution_count": null,
   "metadata": {},
   "outputs": [],
   "source": [
    "model_2.load_weights('Final_GRU_Model_Best_Weights/Best_Img_recog_GRU_RAdam_model_run_weights.h5')"
   ]
  },
  {
   "cell_type": "markdown",
   "metadata": {},
   "source": [
    "**Synth Text Validation Data Prediction**"
   ]
  },
  {
   "cell_type": "code",
   "execution_count": null,
   "metadata": {},
   "outputs": [],
   "source": [
    "val_img_names=val_data['ImageName'].values\n",
    "val_labels=val_data['Labels'].values"
   ]
  },
  {
   "cell_type": "code",
   "execution_count": null,
   "metadata": {},
   "outputs": [
    {
     "name": "stdout",
     "output_type": "stream",
     "text": [
      "Processed  1000  Images\n",
      "Processed  2000  Images\n",
      "Processed  3000  Images\n",
      "Processed  4000  Images\n",
      "Processed  5000  Images\n",
      "Processed  6000  Images\n",
      "Processed  7000  Images\n",
      "Processed  8000  Images\n",
      "Processed  9000  Images\n",
      "Processed  10000  Images\n",
      "Processed  11000  Images\n",
      "Processed  12000  Images\n",
      "Time Taken for Processing:  0:14:31.055968\n"
     ]
    }
   ],
   "source": [
    "synth_val_accuracy,synth_val_letter_acc,synth_val_letter_cnt,synth_val_mis_match=test_data_output_Prediction(model_2,val_img_names,val_labels)"
   ]
  },
  {
   "cell_type": "code",
   "execution_count": null,
   "metadata": {},
   "outputs": [
    {
     "name": "stdout",
     "output_type": "stream",
     "text": [
      "Model Output Accuracy:  81.86666666666666  %\n",
      "Model Output Letter Accuracy:  92.10611116308563  %\n"
     ]
    }
   ],
   "source": [
    "print(\"Model Output Accuracy: \",(synth_val_accuracy/len(val_labels))*100, \" %\")\n",
    "print(\"Model Output Letter Accuracy: \",(synth_val_letter_acc/synth_val_letter_cnt)*100, \" %\")"
   ]
  },
  {
   "cell_type": "code",
   "execution_count": null,
   "metadata": {},
   "outputs": [],
   "source": [
    "model_2_val_mis_match_dict=Counter(synth_val_mis_match)"
   ]
  },
  {
   "cell_type": "markdown",
   "metadata": {},
   "source": [
    "**Model 2 Validation Data Prediction Analysis upto 4 Character Mis-Matches**"
   ]
  },
  {
   "cell_type": "code",
   "execution_count": null,
   "metadata": {},
   "outputs": [],
   "source": [
    "mis_match_cnts_3=[]\n",
    "for i in range(5):\n",
    "    mis_match_cnts_3.append(model_2_val_mis_match_dict[i])"
   ]
  },
  {
   "cell_type": "code",
   "execution_count": null,
   "metadata": {},
   "outputs": [
    {
     "data": {
      "image/png": "iVBORw0KGgoAAAANSUhEUgAAAl4AAAGDCAYAAAD6aR7qAAAABHNCSVQICAgIfAhkiAAAAAlwSFlzAAALEgAACxIB0t1+/AAAADh0RVh0U29mdHdhcmUAbWF0cGxvdGxpYiB2ZXJzaW9uMy4xLjAsIGh0dHA6Ly9tYXRwbG90bGliLm9yZy+17YcXAAAgAElEQVR4nO3debhkZXmu8fuhG2QGgYYwNwIiSAS1RdTEEAYnouA5EnFEQ0KcMUejaEzEHDWQxEjiMVEUFRxAFA0YiYoIGowBm0kmEUUmRbqRWRAZ3vPH+jYUm713V7ddaw/cv+uqa9ea37VWVdfT3/pqVaoKSZIkjd4q012AJEnSI4XBS5IkqScGL0mSpJ4YvCRJknpi8JIkSeqJwUuSJKknBi9JD5HkhUmuTXJHkifOgHrOTPKn07TtNZJ8JcmtSb7wW6zn95NcvjJrG5UkC5NUkvkraX17JLluZaxLmgsMXpq1klyV5K4WEG5I8skka093XYNajXtPdx3L6R+BN1TV2lV1/viJ7UP5oiSrDIx7b5JP9VlkT14EbAJsWFUHjJ+Y5PB2PN40bvyb2/jDAarqv6pqh+Xd+EAIOm/c+I2S/CbJVUOu51VJzlre7Q8ryW5JTk1yS5KbkpyT5NWj2t6KWNmBUlpRBi/Nds+vqrWBJwFPAd61vCvwH+KH2Rq4ZBnzbAYc2EMtK006y/tv3tbAj6rq3inm+RFw0Lhxr2zjV5a1kuw8MPxS4Kcrcf0rLMnTgG8B3wa2AzYEXgs8dwTbmrb3qv9OaGUxeGlOqKqfAf8J7AyQZL0kxyS5PsnPWovMvDbtVUm+m+SDSW4CDm/j/yzJZUluT3Jpkie18ZslOSnJ0iQ/HWzdaC0eJyY5ri13SZJFbdqnga2Ar7RWube18V9I8ot2+eo7SR4/sL4N26Wt25J8v9V91sD0xyU5rbUqXJ7kjwemPa/VfXvb57dOdKySrJLkXUmuTrKk1b5ekkcluQOYB1yY5CdTHPK/B94z0YfRRJeWBlv+2jH7QpLPtFovSvLYJO9o9Vyb5FnjVrtta0W5NcnJSTYYWPfuSf67tbZcmGSPgWlnJnlfku8CdwKPmaDeHdt8t7Tz94I2/j3A3wAvbufv4EmOxfeBNcfOY/u7Rhs/4TFJ8vZ2jm5v53GvSdY95tM8NNy9Ejhu3H4cluQnA6/fF47tH/AR4GltP25p49dI8oH2Org1yVlJ1hhY5cuSXJPkxiR/NUVt/wAcW1VHVtWN1Tm3qv54cKYkb2nn9/oMtIYl2TfJ+e01f21aK2GbNtZKdXCSa+gC3rLeQ5Pt13faLLe04/C0Nv+fpHvf35zk60m2HlhXJXl9kiuAK9L5YNuPW5P8IA8NxNKyVZUPH7PyAVwF7N2eb0nXSvN/2/C/Ax8F1gI2Bs4B/rxNexVwL/BGYD7dh+QBwM/oWs1C9z/3ren+c3Iu3QfwanQf3FcCz27rOhz4NfA8usDyd8D/TFTjwLg/AdYBHgUcBVwwMO2E9lgT2Am4FjirTVurDb+61f0k4Ebg8W369cDvt+ePBp40yXH7E+DHbV/WBr4EfHpgegHbTXHcC9i+HZc/bePeC3yqPd8DuG6KczV2zJ7d9uM4utabvwJWBf4M+OnAsme2c7NzOwYnAZ9p0zYHftmO/yrAPm14wcCy1wCPb9tadVxdq7Zj8c52fvcEbgd2GKj1M1Mci8OBz7Tlj2zj/h54Rxt/+PhjAuzQzuNmbXghsO0k61/YjvfCtsw8YEfgcmBv4KqBeQ+ga4lcBXgx8Ctg04HX/Fnj1v3hdnw2b+t9Ot1rcmybH6N7b+wC3A3sOEF9awL3AX84xTHag+799rfteD+PLgQ/emD677a6nwDcAOw/bv+Pa+d+jSHeQ8var/kD8+7fzv+O7fXxLuC/x73WTwM2aMfi2XSv+/Xp/p3YcewY+/Ax7GPaC/DhY0UfdB/mdwC3AFcD/9r+cdykfVCsMTDvS4Az2vNXAdeMW9fXgUMn2MZTJ5j3HcAn2/PDgW8OTNsJuGtcjXtPsQ/rt3/c12sfEvfQPvTb9PfyYPB6MfBf45b/KPDu9vwa4M+BdZdx3E4HXjcwvEPb7vw2PEzw2q59gF7TPtSWN3idNjDt+e08zmvD67RtrN+GzwSOGHeMf9OO19sZCI0D5/KggWX/dop9+X3gF8AqA+OO58HAdDjDBa+t2rFYtf3dksmD13bAErrgtOpk627zLmzHYj7wTboP/iPoQupDgtcEy14A7Dfwmj9rYNoqwF3ALlNsc4uBcecAB04w7+Zt3sdNUccebVuDgWcJsPsk8x8FfHBcLY8Z8j00zH4N1vGfwMHjjsudwNYDr/U9B6bvSXcJeffB14wPH8vz8FKjZrv9q2r9qtq6ql5XVXfRtVStClzfLh/dQhdQNh5Y7tpx69kSmOjS2tbAZmPraet6J124G/OLged3AqtPdAkOIMm8JEe0S0K30QUSgI2ABXQfsIO1DT7fGnjquFpeBvxOm/6/6cLQ1Um+PXYpZQKb0QXVMVe37W4y8ewTq6pT6ULGIcuzXHPDwPO7gBur6r6BYeha48YMHoer6c7vRnTH5IBxx+T3gE0nWXa8zYBrq+r+cevffOg9AarqGrqWk/cDV1TVpNusqh8Db6YLbUuSnJBkM4B2CWzssdW4RY+jC1AvoQt1D5HklUkuGDgOO9Mdo4lsBKzOxK/5MeNf1xN9ceVm4H4eerwn8st6aD+5B9aX5KlJzkh3Kf9W4DUT1P3A8VzGe2iY/Rq0NfDPA8fsJrqWrMHz/8C2q+pbwP+ja1W7IcnRSdYdclsSYB8vzU3X0rV4bdRC2fpVtW5VPX5gnppgmW0nWddPB9azflWtU1XPG7KW8dt5KbAfXWvFenT/C4fuH/uldJdkthiYf8txtXx7XC1rV9VrAarq+1W1H13A/HfgxElq+jndB86Yrdp2b5h49im9i671Zc2Bcb8aHE7Xt27BCqx70OBx2Iquhe5GumPy6XHHZK2qOmJg/vHnYNDPgS3z0E73W9Fd2lxexwFvYVzfq4lU1eeq6vfozkMBR7bxaw88rhm32EnAvsCVVTUYnGn9kj4GvIHuG5jrAxfTva7g4cfgRrrLvRO95odWVXcC36ML/Svqc8ApwJZVtR5df7SMm2ew/qneQ1Pt10Svg2vpuiAMvn7WqKr/nmy5qvqXqnoy3eXrxwJ/uexdlB5k8NKcU1XXA98APpBk3XSdybdN8gdTLPZx4K1Jntw60G7XPszOAW5rnaHXaP/b3jnJU4Ys5wYe2qF7HbpQ+Eu6cPL+gbrvo+tvdXiSNZM8jq4T9Zj/AB6b5BVJVm2Pp6TrHL5akpclWa+q7gFuo+t7M5Hjgb9Isk2622+8H/h8Tf3NvQlV1ZnARTy04/eP6Fr99k2yKl04e9TyrnuclyfZKcmadH2FvtiO12eA5yd5djs3q6fryL7F1Kt7wNl0QfFt7XjuQXfp84QVqPHzwLOYPPACkGSHJHsmeRRdSLiLyc/VA6rqV3SXuia6p9ladAFhadvGq2lfNGluALZIslpb1/3AJ4B/SvflkXlJntZqWl5vA16V5C+TbNi2v0uSYY/hOsBNVfXrJLvRBatlzT/Ze2iq/VpK1zo3+H78CPCOPPjFiPWSPOy2IWPa++2p7XX9K7rzt8xzJw0yeGmueiVdZ+lL6S6HfJEpLodU1ReA99H97/t2uhajDdqH+/OBXek6gN9IF9LWG7KOvwPe1S5lvJWuNeRquhaVS4H/GTf/G9q6f0H3Tbbj6T5kqKrb6T7YD6RrqfkFXUvJ2IflK4Cr2uWX1wAvn6SmT7R1f6ft06/pvmiwot5F1/mYVuetwOvojtPP6D6gftsbaH4a+BTdPq8OvKlt61q61o930n2wXkvXAjHUv21V9RvgBXS3PriRrp/gK6vqh8tbYFXdVVXfbJe7p/Ioun5aN7b92bjVP8w2FlfVwy6jVdWlwAfoWp9uoOus/t2BWb5F9+WTXyS5sY17K11o/j7dJbYjWYHPhNY6tGd7XJnum8JHA6cOuYrXAX+b5Ha6L7FMGVxZ9ntowv1qrXPvA77b3o+7V9WX2/QT2vvmYqa+Dca6dC2LN7cafkl33ztpaKmaqhVe0nRKciTwO1V10DJnliTNeLZ4STNIuvt0PaFd7twNOBj48nTXJUlaObwTrzSzrEN3eXEzuq/cfwA4eVorkiStNF5qlCRJ6omXGiVJknpi8JIkSerJrOjjtdFGG9XChQunuwxJkqRlOvfcc2+sqglvHD0rgtfChQtZvHjxdJchSZK0TEmunmyalxolSZJ6YvCSJEnqicFLkiSpJwYvSZKknhi8JEmSemLwkiRJ6onBS5IkqScGL0mSpJ4YvCRJknpi8JIkSeqJwUuSJKknBi9JkqSeGLwkSZJ6Mn+6C5gpFh721ekuYc656oh9p7sESZJmFFu8JEmSemLwkiRJ6onBS5IkqScGL0mSpJ6MNHgl+YsklyS5OMnxSVZPsk2Ss5NckeTzSVYbZQ2SJEkzxciCV5LNgTcBi6pqZ2AecCBwJPDBqtoeuBk4eFQ1SJIkzSSjvtQ4H1gjyXxgTeB6YE/gi236scD+I65BkiRpRhhZ8KqqnwH/CFxDF7huBc4Fbqmqe9ts1wGbT7R8kkOSLE6yeOnSpaMqU5IkqTejvNT4aGA/YBtgM2At4LkTzFoTLV9VR1fVoqpatGDBglGVKUmS1JtRXmrcG/hpVS2tqnuALwFPB9Zvlx4BtgB+PsIaJEmSZoxRBq9rgN2TrJkkwF7ApcAZwIvaPAcBJ4+wBkmSpBljlH28zqbrRH8ecFHb1tHA24H/k+THwIbAMaOqQZIkaSYZ6Y9kV9W7gXePG30lsNsotytJkjQTeed6SZKknhi8JEmSemLwkiRJ6onBS5IkqScGL0mSpJ4YvCRJknpi8JIkSeqJwUuSJKknBi9JkqSeGLwkSZJ6YvCSJEnqicFLkiSpJwYvSZKknhi8JEmSemLwkiRJ6onBS5IkqScGL0mSpJ4YvCRJknpi8JIkSeqJwUuSJKknBi9JkqSeGLwkSZJ6YvCSJEnqicFLkiSpJwYvSZKknhi8JEmSemLwkiRJ6onBS5IkqScjC15JdkhywcDjtiRvTrJBktOSXNH+PnpUNUiSJM0kIwteVXV5Ve1aVbsCTwbuBL4MHAacXlXbA6e3YUmSpDmvr0uNewE/qaqrgf2AY9v4Y4H9e6pBkiRpWvUVvA4Ejm/PN6mq6wHa3417qkGSJGlajTx4JVkNeAHwheVc7pAki5MsXrp06WiKkyRJ6lEfLV7PBc6rqhva8A1JNgVof5dMtFBVHV1Vi6pq0YIFC3ooU5IkabT6CF4v4cHLjACnAAe15wcBJ/dQgyRJ0rQbafBKsiawD/ClgdFHAPskuaJNO2KUNUiSJM0U80e58qq6E9hw3Lhf0n3LUZIk6RHFO9dLkiT1xOAlSZLUE4OXJElSTwxekiRJPTF4SZIk9cTgJUmS1BODlyRJUk8MXpIkST0xeEmSJPXE4CVJktQTg5ckSVJPDF6SJEk9MXhJkiT1xOAlSZLUE4OXJElSTwxekiRJPTF4SZIk9cTgJUmS1BODlyRJUk8MXpIkST0xeEmSJPXE4CVJktQTg5ckSVJPDF6SJEk9MXhJkiT1xOAlSZLUE4OXJElSTwxekiRJPTF4SZIk9WSkwSvJ+km+mOSHSS5L8rQkGyQ5LckV7e+jR1mDJEnSTDHqFq9/Br5WVY8DdgEuAw4DTq+q7YHT27AkSdKcN7LglWRd4JnAMQBV9ZuqugXYDzi2zXYssP+oapAkSZpJRtni9RhgKfDJJOcn+XiStYBNqup6gPZ34xHWIEmSNGOMMnjNB54E/FtVPRH4FctxWTHJIUkWJ1m8dOnSUdUoSZLUm1EGr+uA66rq7Db8RbogdkOSTQHa3yUTLVxVR1fVoqpatGDBghGWKUmS1I+RBa+q+gVwbZId2qi9gEuBU4CD2riDgJNHVYMkSdJMMn/E638j8NkkqwFXAq+mC3snJjkYuAY4YMQ1SJIkzQgjDV5VdQGwaIJJe41yu5IkSTORd66XJEnqicFLkiSpJwYvSZKknhi8JEmSemLwkiRJ6onBS5IkqScGL0mSpJ4YvCRJknpi8JIkSeqJwUuSJKknBi9JkqSeGLwkSZJ6YvCSJEnqicFLkiSpJwYvSZKknhi8JEmSemLwkiRJ6onBS5IkqScGL0mSpJ4YvCRJknpi8JIkSeqJwUuSJKknBi9JkqSeGLwkSZJ6YvCSJEnqicFLkiSpJwYvSZKknhi8JEmSemLwkiRJ6sn8Ua48yVXA7cB9wL1VtSjJBsDngYXAVcAfV9XNo6xDkiRpJhiqxSvJtkke1Z7vkeRNSdYfcht/WFW7VtWiNnwYcHpVbQ+c3oYlSZLmvGEvNZ4E3JdkO+AYYBvgcyu4zf2AY9vzY4H9V3A9kiRJs8qwwev+qroXeCFwVFX9BbDpEMsV8I0k5yY5pI3bpKquB2h/N17eoiVJkmajYft43ZPkJcBBwPPbuFWHWO4ZVfXzJBsDpyX54bCFtaB2CMBWW2017GKSJEkz1rAtXq8Gnga8r6p+mmQb4DPLWqiqft7+LgG+DOwG3JBkU4D2d8kkyx5dVYuqatGCBQuGLFOSJGnmGip4VdWlwNuB89rwT6vqiKmWSbJWknXGngPPAi4GTqFrOaP9PXnFSpckSZpdhv1W4/OBC4CvteFdk5yyjMU2Ac5KciFwDvDVqvoacASwT5IrgH3asCRJ0pw3bB+vw+kuE54JUFUXtMuNk6qqK4FdJhj/S2Cv5apSkiRpDhi2j9e9VXXruHG1souRJEmay4Zt8bo4yUuBeUm2B94E/PfoypIkSZp7hm3xeiPweOBu4HjgNuDNoypKkiRpLhqqxauq7gT+qj0kSZK0AoYKXkm+wsP7dN0KLAY+WlW/XtmFSZIkzTXDXmq8ErgD+Fh73AbcADy2DUuSJGkZhu1c/8SqeubA8FeSfKeqnpnkklEUJkmSNNcM2+K1IMkDP5jYnm/UBn+z0quSJEmag4Zt8XoL3V3ofwIE2AZ4XfspoGNHVZwkSdJcMuy3Gk9t9+96HF3w+uFAh/qjRlWcJEnSXDJsixfA9sAOwOrAE5JQVceNpixJkqS5Z9jbSbwb2APYCTgVeC5wFmDwkiRJGtKwnetfRPfD1r+oqlfT/fj1o0ZWlSRJ0hw0bPC6q6ruB+5Nsi6wBHjM6MqSJEmae4bt47U4yfp0N0s9l+5mqueMrCpJkqQ5aNhvNb6uPf1Ikq8B61bVD0ZXliRJ0twz1KXGJKePPa+qq6rqB4PjJEmStGxTtnglWR1YE9goyaPp7uEFsC6w2YhrkyRJmlOWdanxz4E304Wsc3kweN0GfHiEdUmSJM05Uwavqvpn4J+TvLGqPtRTTZIkSXPSsJ3rP5Tk6cDCwWW8c70kSdLwhr1z/aeBbYELgPva6MI710uSJA1t2Pt4LQJ2qqoaZTGSJElz2bB3rr8Y+J1RFiJJkjTXDdvitRFwaZJzgLvHRlbVC0ZSlSRJ0hw0bPA6fJRFSJIkPRIM+63GbyfZGti+qr6ZZE1g3mhLkyRJmluG/cmgPwO+CHy0jdoc+PdRFSVJkjQXDdu5/vXAM+juWE9VXQFsPKqiJEmS5qJhg9fdVfWbsYEk8+nu47VMSeYlOT/Jf7ThbZKcneSKJJ9Pstryly1JkjT7DBu8vp3kncAaSfYBvgB8ZchlDwUuGxg+EvhgVW0P3AwcPGyxkiRJs9mwweswYClwEd0PZ58KvGtZCyXZAtgX+HgbDrAnXX8xgGOB/ZevZEmSpNlp2NtJrAF8oqo+Bt3lwzbuzmUsdxTwNmCdNrwhcEtV3duGr6PrqP8wSQ4BDgHYaquthixTkiRp5hq2xet0uqA1Zg3gm1MtkOSPgCVVde7g6AlmnbCvWFUdXVWLqmrRggULhixTkiRp5hq2xWv1qrpjbKCq7mj38prKM4AXJHkesDqwLl0L2PpJ5rdWry2An69A3ZIkSbPOsC1ev0rypLGBJE8G7ppqgap6R1VtUVULgQOBb1XVy4AzgBe12Q4CTl7uqiVJkmahYVu8DgW+kGSsdWpT4MUruM23AyckeS9wPnDMCq5HkiRpVllm8EqyCrAa8DhgB7p+Wj+sqnuG3UhVnQmc2Z5fCey2ArVKkiTNassMXlV1f5IPVNXTgIt7qEmSJGlOGraP1zeS/O92Hy5JkiStgGH7eP0fYC3gviR30V1urKpad2SVSZIkzTFDBa+qWmfZc0mSJGkqQ11qTOflSf66DW+ZxA7ykiRJy2HYPl7/CjwNeGkbvgP48EgqkiRJmqOG7eP11Kp6UpLzAarq5iSrjbAuSZKkOWfYFq972g9jF0CSBcD9I6tKkiRpDho2eP0L8GVg4yTvA84C3j+yqiRJkuagYb/V+Nkk5wJ70d1KYv+qumyklUmSJM0xUwavJKsDrwG2Ay4CPlpV9/ZRmCRJ0lyzrEuNxwKL6ELXc4F/HHlFkiRJc9SyLjXuVFW/C5DkGOCc0ZckSZI0Ny2rxeuesSdeYpQkSfrtLKvFa5ckt7XnAdZow/5WoyRJ0nKaMnhV1by+CpEkSZrrhr2PlyRJkn5LBi9JkqSeGLwkSZJ6YvCSJEnqicFLkiSpJwYvSZKknhi8JEmSemLwkiRJ6onBS5IkqScGL0mSpJ4YvCRJknpi8JIkSeqJwUuSJKknIwteSVZPck6SC5NckuQ9bfw2Sc5OckWSzydZbVQ1SJIkzSSjbPG6G9izqnYBdgWek2R34Ejgg1W1PXAzcPAIa5AkSZoxRha8qnNHG1y1PQrYE/hiG38ssP+oapAkSZpJRtrHK8m8JBcAS4DTgJ8At1TVvW2W64DNJ1n2kCSLkyxeunTpKMuUJEnqxUiDV1XdV1W7AlsAuwE7TjTbJMseXVWLqmrRggULRlmmJElSL3r5VmNV3QKcCewOrJ9kfpu0BfDzPmqQJEmabqP8VuOCJOu352sAewOXAWcAL2qzHQScPKoaJEmSZpL5y55lhW0KHJtkHl3AO7Gq/iPJpcAJSd4LnA8cM8IaJEmSZoyRBa+q+gHwxAnGX0nX30uSJOkRxTvXS5Ik9cTgJUmS1BODlyRJUk8MXpIkST0xeEmSJPXE4CVJktQTg5ckSVJPDF6SJEk9MXhJkiT1xOAlSZLUE4OXJElSTwxekiRJPTF4SZIk9cTgJUmS1BODlyRJUk8MXpIkST0xeEmSJPXE4CVJktQTg5ckSVJPDF6SJEk9MXhJkiT1xOAlSZLUE4OXJElSTwxekiRJPTF4SZIk9cTgJUmS1BODlyRJUk8MXpIkST0xeEmSJPVkZMEryZZJzkhyWZJLkhzaxm+Q5LQkV7S/jx5VDZIkSTPJKFu87gXeUlU7ArsDr0+yE3AYcHpVbQ+c3oYlSZLmvJEFr6q6vqrOa89vBy4DNgf2A45tsx0L7D+qGiRJkmaSXvp4JVkIPBE4G9ikqq6HLpwBG0+yzCFJFidZvHTp0j7KlCRJGqmRB68kawMnAW+uqtuGXa6qjq6qRVW1aMGCBaMrUJIkqScjDV5JVqULXZ+tqi+10Tck2bRN3xRYMsoaJEmSZopRfqsxwDHAZVX1TwOTTgEOas8PAk4eVQ2SJEkzyfwRrvsZwCuAi5Jc0Ma9EzgCODHJwcA1wAEjrEGSJGnGGFnwqqqzgEwyea9RbVeSJGmm8s71kiRJPTF4SZIk9cTgJUmS1BODlyRJUk8MXpIkST0xeEmSJPXE4CVJktQTg5ckSVJPDF6SJEk9MXhJkiT1xOAlSZLUE4OXJElSTwxekiRJPTF4SZIk9cTgJUmS1BODlyRJUk8MXpIkST0xeEmSJPXE4CVJktQTg5ckSVJPDF6SJEk9MXhJkiT1xOAlSZLUE4OXJElSTwxekiRJPTF4SZIk9cTgJUmS1BODlyRJUk8MXpIkST0ZWfBK8okkS5JcPDBugySnJbmi/X30qLYvSZI004yyxetTwHPGjTsMOL2qtgdOb8OSJEmPCCMLXlX1HeCmcaP3A45tz48F9h/V9iVJkmaavvt4bVJV1wO0vxtPNmOSQ5IsTrJ46dKlvRUoSZI0KjO2c31VHV1Vi6pq0YIFC6a7HEmSpN9a38HrhiSbArS/S3reviRJ0rTpO3idAhzUnh8EnNzz9iVJkqbNKG8ncTzwPWCHJNclORg4AtgnyRXAPm1YkiTpEWH+qFZcVS+ZZNJeo9qmJEnSTDZjO9dLkiTNNQYvSZKknhi8JEmSemLwkiRJ6snIOtdLo7DwsK9OdwlzylVH7DvdJUjSI4otXpIkST0xeEmSJPXE4CVJktQTg5ckSVJPDF6SJEk9MXhJkiT1xOAlSZLUE4OXJElSTwxekiRJPTF4SZIk9cTgJUmS1BODlyRJUk8MXpIkST0xeEmSJPXE4CVJktQTg5ckSVJP5k93AZLmnoWHfXW6S5hTrjpi3+kuQdJKYouXJElSTwxekiRJPTF4SZIk9cQ+XpL0CGQ/vJXPvngahsFLkqQZyoC8cs2EcOylRkmSpJ5MS/BK8pwklyf5cZLDpqMGSZKkvvUevJLMAz4MPBfYCXhJkp36rkOSJKlv09HitRvw46q6sqp+A5wA7DcNdUiSJPVqOoLX5sC1A8PXtXGSJElzWqqq3w0mBwDPrqo/bcOvAHarqjeOm+8Q4JA2uANwea+FzlwbATdOdxFaJs/T7OB5mh08TzOf5+ihtq6qBRNNmI7bSVwHbDkwvAXw8/EzVdXRwNF9FTVbJFlcVYumuw5NzfM0O3ieZgfP08znORredFxq/D6wfZJtkqwGHAicMg11SJIk9ar3Fq+qujfJG4CvA/OAT1TVJX3XIUmS1LdpuXN9VZ0KnDod254DvPw6O3ieZgfP0+zgeZr5PEdD6r1zvSRJ0iOVPxkkSZLUE4PXLOJPLc18ST6RZEmSi6e7Fk0syZZJzkhyWZJLkhw63TXp4ZKsnuScJBe28/Se6a5Jk0syL8n5Sf5jumuZ6Qxes4Q/tTRrfAp4znQXoSndC7ylqnYEdgde73tpRrob2LOqdgF2BZ6TZPdprkmTOxS4bLqLmA0MXuycYfoAAAfhSURBVLOHP7U0C1TVd4CbprsOTa6qrq+q89rz2+k+LPz1jBmmOne0wVXbw07JM1CSLYB9gY9Pdy2zgcFr9vCnlqSVLMlC4InA2dNbiSbSLl9dACwBTqsqz9PMdBTwNuD+6S5kNjB4zR6ZYJz/+5NWUJK1gZOAN1fVbdNdjx6uqu6rql3pfuFktyQ7T3dNeqgkfwQsqapzp7uW2cLgNXsM9VNLkpYtyap0oeuzVfWl6a5HU6uqW4Azsf/kTPQM4AVJrqLrArNnks9Mb0kzm8Fr9vCnlqSVIEmAY4DLquqfprseTSzJgiTrt+drAHsDP5zeqjReVb2jqraoqoV0n0vfqqqXT3NZM5rBa5aoqnuBsZ9augw40Z9amnmSHA98D9ghyXVJDp7umvQwzwBeQfc/8wva43nTXZQeZlPgjCQ/oPuP52lV5a0KNOt553pJkqSe2OIlSZLUE4OXJElSTwxekiRJPTF4SZIk9cTgJUmS1BODlzRLJakkHxgYfmuSw1fSuj+V5EUrY13L2M4BSS5Lcsa48Qvb/v3fgXEbJbknyf9rw69J8srl2NaZSa5p9/EaG/fvSe5YxnLrJ3ndkOtfNMR8j01yapIft30/MckmSV41tm99GHa/JK1cBi9p9rob+F9JNpruQgYlmbccsx8MvK6q/nCCaVcCfzQwfADwwL3rquojVXXccpZ3C919vGg359x0iGXWB1ZKQEmyOvBV4N+qaruq2hH4N2DBSlj38hx3WIH9SsfPDem34BtImr3uBY4G/mL8hPEtVmOtOkn2SPLt1sryoyRHJHlZknOSXJRk24HV7J3kv9p8f9SWn5fkH5J8P8kPkvz5wHrPSPI54KIJ6nlJW//FSY5s4/4G+D3gI0n+YYL9uwu4bKAV6cXAiQPrPDzJW9vzNyW5tNV0whTH7AS6u2sD/C/ggZ8LSrJ2ktOTnNdq3a9NOgLYtt1o9R/avG9r81yY5IiB9R/QjuWPkvz+BNt/KfC9qvrK2IiqOqOqLm6DmyX5WpIrkvz9QG3/lmRxkkuSvGdg/FVJ/ibJWW3bf9bOzYVJTkqyZptvkyRfbuMvTPL0SfbrLwfO7XvauIWtZe5fgfOALdvr6+J2DB72+pM0ufnTXYCk38qHgR8MfkgPYRdgR+Amulalj1fVbkkOBd4IvLnNtxD4A2BbujuIbwe8Eri1qp6S5FHAd5N8o82/G7BzVf10cGNJNgOOBJ4M3Ax8I8n+VfW3SfYE3lpViyep9QTgwCS/AO6j+33SzSaY7zBgm6q6u7VkTeZ04GOtdehA4BDgr9u0XwMvrKrbWivi/yQ5pa175/ZjzSR5LrA/8NSqujPJBgPrn9+O5fOAd9P9zM2gnYGpfkx4V+CJdK2Zlyf5UFVdC/xVVd3U6j49yROq6gdjdVfV77XaNqyqj7Xn76VrUfwQ8C/At6vqhW0da0+wX88Ctqc7jwFOSfJM4BpgB+DVVfW6JE8GNq+qndtyUx1vSePY4iXNYlV1G3Ac8KblWOz7VXV9Vd0N/AQYC04X0YWtMSdW1f1VdQVdQHsc8CzglUkuAM4GNqT7sAY4Z3zoap4CnFlVS9tPX30WeOaQtX4N2Ad4CfD5Keb7AfDZJC+nawmczH3AWXStZ2tU1VUD0wK8P91P1HwT2BzYZIJ17A18sqruBKiqmwamjbWgnctDj+WwTq+qW6vq18ClwNZt/B8nOQ84H3g8sNPAMoPHZefWSnkR8LI2L8CedJc0qar7qurWCbb9rPY4n65l63E8eG6vrqr/ac+vBB6T5ENJngPctgL7KT1iGbyk2e8oupaNtQbG3Ut7fycJsNrAtLsHnt8/MHw/D20FH/97YkUXTt5YVbu2xzZVNRbcfjVJfZlk/DJV1W/oQsxbgJOmmHVfuta/JwPnJpmf5OvtMtrHx817Al0r0Injxr+Mrq/Vk1sr0A3A6hNsKzz82IwZO5b3MfEVhUtajZMZPDf3AfOTbAO8Fdirqp5A10dssK7B4/4p4A1V9bvAeyapfzIB/m7g3G5XVceM30ZV3UzXanom8Hpg/PGVNAWDlzTLtRaXE+nC15irePADfj9g1RVY9QFJVmn9vh4DXE73I+2vTbIqPPANvbWmWgldy9gfpPtW4jy61qtvL0cdHwDeXlW/nGhius7eW1bVGcDb6DqNr11Vz24B4k/HLfJfwN8Bx48bvx6wpKruSfKHPNjadDuwzsB83wD+ZKD/1AYM73PA05PsO1D/c5L87hTLrEsXfG5Nsgnw3CnmXQe4vp2flw2MPx14bdvevCTr8vD9+jrdfq3d5ts8ycbjN9Auw65SVSfRXaZ90hT1SBrHPl7S3PAB4A0Dwx8DTk5yDt2H7mStUVO5nC4gbQK8pqp+3VqPFgLntZa0pXT9nSZVVdcneQdwBl2ryqlVdfKwRVTVJQx8m3EC84DPJFmvrf+DVXXLFOsr4B8nmPRZ4CtJFgMXAD9s8/8yyXeTXAz8Z1X9ZZJdgcVJfgOcCrxzyH25K90XFY5KchRwD91l0kOnWObCJOfTHYMrge9OsYm/pgu6V9NdOh4LVocCRyc5mK4l7bVV9b0J9mtH4HvdqeUO4OVt/kGbA5/Mg99ufMcw+y6pk+7fIEmSJI2alxolSZJ6YvCSJEnqicFLkiSpJwYvSZKknhi8JEmSemLwkiRJ6onBS5IkqScGL0mSpJ78f/S2RO6+S45kAAAAAElFTkSuQmCC",
      "text/plain": [
       "<Figure size 720x432 with 1 Axes>"
      ]
     },
     "metadata": {
      "needs_background": "light"
     },
     "output_type": "display_data"
    },
    {
     "name": "stdout",
     "output_type": "stream",
     "text": [
      "0  Mis-Match Characters Percentage:  82.06  %\n",
      "1  Mis-Match Characters Percentage:  7.32  %\n",
      "2  Mis-Match Characters Percentage:  2.88  %\n",
      "3  Mis-Match Characters Percentage:  1.85  %\n",
      "4  Mis-Match Characters Percentage:  1.41  %\n"
     ]
    }
   ],
   "source": [
    "mis_match_character_analysis_plot(mis_match_cnts_3,12000)"
   ]
  },
  {
   "cell_type": "markdown",
   "metadata": {},
   "source": [
    "**Synth Text Test Data**"
   ]
  },
  {
   "cell_type": "code",
   "execution_count": null,
   "metadata": {},
   "outputs": [],
   "source": [
    "test_img_names=test_data['ImageName'].values\n",
    "test_labels=test_data['Labels'].values"
   ]
  },
  {
   "cell_type": "code",
   "execution_count": null,
   "metadata": {},
   "outputs": [
    {
     "name": "stdout",
     "output_type": "stream",
     "text": [
      "Processed  1000  Images\n",
      "Processed  2000  Images\n",
      "Processed  3000  Images\n",
      "Processed  4000  Images\n",
      "Processed  5000  Images\n",
      "Processed  6000  Images\n",
      "Processed  7000  Images\n",
      "Processed  8000  Images\n",
      "Processed  9000  Images\n",
      "Processed  10000  Images\n",
      "Processed  11000  Images\n",
      "Processed  12000  Images\n",
      "Processed  13000  Images\n",
      "Processed  14000  Images\n",
      "Processed  15000  Images\n",
      "Time Taken for Processing:  0:18:08.747058\n"
     ]
    }
   ],
   "source": [
    "synth_test_accuracy,synth_test_letter_acc,synth_test_letter_cnt,synth_test_mis_match=test_data_output_Prediction(model_2,test_img_names,test_labels)"
   ]
  },
  {
   "cell_type": "code",
   "execution_count": null,
   "metadata": {},
   "outputs": [
    {
     "name": "stdout",
     "output_type": "stream",
     "text": [
      "Model Output Accuracy:  82.43333333333334  %\n",
      "Model Output Letter Accuracy:  92.63425739922326  %\n"
     ]
    }
   ],
   "source": [
    "print(\"Model Output Accuracy: \",(synth_test_accuracy/len(test_labels))*100, \" %\")\n",
    "print(\"Model Output Letter Accuracy: \",(synth_test_letter_acc/synth_test_letter_cnt)*100, \" %\")"
   ]
  },
  {
   "cell_type": "code",
   "execution_count": null,
   "metadata": {},
   "outputs": [],
   "source": [
    "model_2_test_mis_match_dict=Counter(synth_test_mis_match)"
   ]
  },
  {
   "cell_type": "markdown",
   "metadata": {},
   "source": [
    "**Model 2 Test Data Prediction Analysis upto 4 Character Mis-Matches**"
   ]
  },
  {
   "cell_type": "code",
   "execution_count": null,
   "metadata": {},
   "outputs": [],
   "source": [
    "mis_match_cnts_4=[]\n",
    "for i in range(5):\n",
    "    mis_match_cnts_4.append(model_2_test_mis_match_dict[i])"
   ]
  },
  {
   "cell_type": "code",
   "execution_count": null,
   "metadata": {},
   "outputs": [
    {
     "data": {
      "image/png": "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",
      "text/plain": [
       "<Figure size 720x432 with 1 Axes>"
      ]
     },
     "metadata": {
      "needs_background": "light"
     },
     "output_type": "display_data"
    },
    {
     "name": "stdout",
     "output_type": "stream",
     "text": [
      "0  Mis-Match Characters Percentage:  82.73  %\n",
      "1  Mis-Match Characters Percentage:  7.45  %\n",
      "2  Mis-Match Characters Percentage:  2.82  %\n",
      "3  Mis-Match Characters Percentage:  1.76  %\n",
      "4  Mis-Match Characters Percentage:  1.33  %\n"
     ]
    }
   ],
   "source": [
    "mis_match_character_analysis_plot(mis_match_cnts_4,15000)"
   ]
  },
  {
   "cell_type": "markdown",
   "metadata": {},
   "source": [
    "## 14. Results"
   ]
  },
  {
   "cell_type": "markdown",
   "metadata": {},
   "source": [
    "1. **Model 1:** Model 1 Architecture consists of Convulution Layers, LSTM Units for RNN and uses Adam Optimizer\n",
    "2. **Model 2:** Model 2 Architecture consists of Convulution Layers, GRU Units for RNN and uses RAdam Optimizer\n",
    "3. **Val:** Denotes Synth Text Validation Data containing 12000 Images\n",
    "4. **Test:** Denotes Synth Text Test Data containing 15000 Images\n",
    "5. **0 MM(%):** Denotes % of points out of total points which have 0 character mis-match between Predicted and Actual Labels\n",
    "6. **1 MM(%):** Denotes % of points out of total points which have 1 character mis-match between Predicted and Actual Labels"
   ]
  },
  {
   "cell_type": "code",
   "execution_count": null,
   "metadata": {},
   "outputs": [
    {
     "name": "stdout",
     "output_type": "stream",
     "text": [
      "+---------+------+----------+-----------------+---------+----------+\n",
      "|  Model  | Data | Accuracy | Letter Accuracy | 0 MM(%) | 1 MM (%) |\n",
      "+---------+------+----------+-----------------+---------+----------+\n",
      "| Model 1 | Val  |  86.47   |      94.01      |  86.58  |   5.78   |\n",
      "| Model 1 | Test |  87.98   |      94.48      |  87.19  |   5.85   |\n",
      "| Model 2 | Val  |  81.86   |       92.1      |  82.06  |   7.32   |\n",
      "| Model 2 | Test |  82.43   |      92.63      |  82.73  |   7.45   |\n",
      "+---------+------+----------+-----------------+---------+----------+\n"
     ]
    }
   ],
   "source": [
    "from prettytable import PrettyTable\n",
    "\n",
    "pt = PrettyTable()\n",
    "\n",
    "pt.field_names = [\"Model\", \"Data\", \"Accuracy\",\"Letter Accuracy\", \"0 MM(%)\", \"1 MM (%)\"]\n",
    "\n",
    "pt.add_row([\"Model 1\", \"Val\", 86.47, 94.01, 86.58, 5.78])\n",
    "\n",
    "pt.add_row([\"Model 1\", \"Test\", 87.98, 94.48, 87.19, 5.85])\n",
    "\n",
    "pt.add_row([\"Model 2\", \"Val\", 81.86, 92.1, 82.06, 7.32])\n",
    "\n",
    "pt.add_row([\"Model 2\", \"Test\", 82.43, 92.63, 82.73, 7.45])\n",
    "\n",
    "print(pt)"
   ]
  },
  {
   "cell_type": "markdown",
   "metadata": {},
   "source": [
    "## 15. Summary"
   ]
  },
  {
   "cell_type": "markdown",
   "metadata": {},
   "source": [
    "1. The 2 Image Text Recognition Model Architectures are Trained on 200000 Synth Text Images of Variable length Labels which are different from Validation Data containing 12000 images and Test Data Containing 15000 images.\n",
    "2. Model 1 Trained on 200000 images from Synth Text Images performs reasonably well on Unseen 15000 Test Images of Variable length labels with an accuracy of ~88% and letter accuracy of ~94%\n",
    "3. Model 2 also Trained on same 200000 images has an accuracy of ~82% and letter accuracy of ~93% on 15000 Test Images of Variable length labels\n",
    "4. Both the Models have high percentage (>82%) of 0 mis-match character points between Actual and Predicted Labels "
   ]
  }
 ],
 "metadata": {
  "kernelspec": {
   "display_name": "Python 3.9.12 ('tf')",
   "language": "python",
   "name": "python3"
  },
  "language_info": {
   "codemirror_mode": {
    "name": "ipython",
    "version": 3
   },
   "file_extension": ".py",
   "mimetype": "text/x-python",
   "name": "python",
   "nbconvert_exporter": "python",
   "pygments_lexer": "ipython3",
   "version": "3.9.12"
  },
  "vscode": {
   "interpreter": {
<<<<<<< HEAD
    "hash": "72a60c7b54a4b055afebdfcb8775c5a1437ccbf1a435d3d93374f05f744aa801"
=======
    "hash": "05171ff841fbb92c276f557c77b7f423399f23e8a5513187d19f6817d78e5055"
>>>>>>> 56af5625a19e40097e79f223619887c5d558ceee
   }
  }
 },
 "nbformat": 4,
 "nbformat_minor": 2
}
